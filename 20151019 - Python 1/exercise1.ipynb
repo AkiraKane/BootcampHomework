{
 "cells": [
  {
   "cell_type": "markdown",
   "metadata": {},
   "source": [
    "** Save your ipython notebook with your name and push to bootcamp003_student**"
   ]
  },
  {
   "cell_type": "markdown",
   "metadata": {
    "internals": {
     "slide_type": "subslide"
    },
    "slideshow": {
     "slide_type": "slide"
    }
   },
   "source": [
    "(1) Write a function **countVowels** to count up the number of vowels contained in a given string. Valid vowels are: 'a', 'e', 'i', 'o', 'u'. \n",
    "\n",
    "For example, countVowels('aeiou') should return 5. \n",
    "\n",
    "Try to avoid string search functions.  This exercise is to practice your programming skills.\n",
    "\n",
    "[Optional]  Solve it by one-line list comprehension."
   ]
  },
  {
   "cell_type": "code",
   "execution_count": null,
   "metadata": {
    "collapsed": false,
    "internals": {},
    "slideshow": {
     "slide_type": "-"
    }
   },
   "outputs": [],
   "source": [
    "### write you function here"
   ]
  },
  {
   "cell_type": "markdown",
   "metadata": {
    "internals": {},
    "slideshow": {
     "slide_type": "-"
    }
   },
   "source": [
    "Here are more examples. Your function should return exactly the same results."
   ]
  },
  {
   "cell_type": "code",
   "execution_count": null,
   "metadata": {
    "collapsed": false,
    "internals": {},
    "slideshow": {
     "slide_type": "-"
    }
   },
   "outputs": [],
   "source": [
    "countVowels('') # 0"
   ]
  },
  {
   "cell_type": "code",
   "execution_count": null,
   "metadata": {
    "collapsed": false,
    "internals": {},
    "slideshow": {
     "slide_type": "-"
    }
   },
   "outputs": [],
   "source": [
    "countVowels(' bcd fgh jklmn pqrst vwxyz') # 0"
   ]
  },
  {
   "cell_type": "code",
   "execution_count": null,
   "metadata": {
    "collapsed": false,
    "internals": {},
    "slideshow": {
     "slide_type": "-"
    }
   },
   "outputs": [],
   "source": [
    "countVowels('a') # 1"
   ]
  },
  {
   "cell_type": "code",
   "execution_count": null,
   "metadata": {
    "collapsed": false,
    "internals": {},
    "slideshow": {
     "slide_type": "-"
    }
   },
   "outputs": [],
   "source": [
    "countVowels('aeiou') # 5"
   ]
  },
  {
   "cell_type": "code",
   "execution_count": null,
   "metadata": {
    "collapsed": false,
    "internals": {
     "slide_helper": "subslide_end"
    },
    "slide_helper": "subslide_end",
    "slideshow": {
     "slide_type": "-"
    }
   },
   "outputs": [],
   "source": [
    "countVowels('aeiouaeiouaeiou') # 15"
   ]
  },
  {
   "cell_type": "markdown",
   "metadata": {
    "internals": {
     "slide_type": "subslide"
    },
    "slideshow": {
     "slide_type": "slide"
    }
   },
   "source": [
    "(2) Write a function **count_nyc** to count up the number of times the string 'nyc' occurs in a given string. \n",
    "\n",
    "For example, *count_nyc('Welcome to nyc(NYC) DATA SCIENCE ACADEMY!')* should return 1, which means the function is case sensitive, \"NYC\" is not equivalent to \"nyc\"."
   ]
  },
  {
   "cell_type": "code",
   "execution_count": null,
   "metadata": {
    "collapsed": false,
    "internals": {},
    "slideshow": {
     "slide_type": "-"
    }
   },
   "outputs": [],
   "source": [
    "### write you function here"
   ]
  },
  {
   "cell_type": "markdown",
   "metadata": {
    "internals": {},
    "slideshow": {
     "slide_type": "-"
    }
   },
   "source": [
    "Here are more examples. Your function should return exactly the same result."
   ]
  },
  {
   "cell_type": "code",
   "execution_count": null,
   "metadata": {
    "collapsed": false,
    "internals": {},
    "slideshow": {
     "slide_type": "-"
    }
   },
   "outputs": [],
   "source": [
    "count_nyc('') # 0"
   ]
  },
  {
   "cell_type": "code",
   "execution_count": null,
   "metadata": {
    "collapsed": false,
    "internals": {},
    "slideshow": {
     "slide_type": "-"
    }
   },
   "outputs": [],
   "source": [
    "count_nyc('Welcome to NYC DATA SCIENCE ACADEMY!') # 0"
   ]
  },
  {
   "cell_type": "code",
   "execution_count": null,
   "metadata": {
    "collapsed": false,
    "internals": {},
    "slideshow": {
     "slide_type": "-"
    }
   },
   "outputs": [],
   "source": [
    "count_nyc('nyc') # 1"
   ]
  },
  {
   "cell_type": "code",
   "execution_count": null,
   "metadata": {
    "collapsed": false,
    "internals": {},
    "slideshow": {
     "slide_type": "-"
    }
   },
   "outputs": [],
   "source": [
    "count_nyc('Welcome to nyc(NYC) DATA SCIENCE ACADEMY!') # 1"
   ]
  },
  {
   "cell_type": "code",
   "execution_count": null,
   "metadata": {
    "collapsed": false,
    "internals": {
     "slide_helper": "subslide_end"
    },
    "slide_helper": "subslide_end",
    "slideshow": {
     "slide_type": "-"
    }
   },
   "outputs": [],
   "source": [
    "count_nyc('nyc_nyc__nyb') # 2"
   ]
  },
  {
   "cell_type": "markdown",
   "metadata": {
    "internals": {
     "slide_type": "subslide"
    },
    "slideshow": {
     "slide_type": "slide"
    }
   },
   "source": [
    "(3) Write a function **countString** with two arguments *raw_string* and *string_to_count*. Your function should return the number of times of *string_to_count* occurs in the the *raw_string* argument. In addition, Your function should be case insensitive in this time. \n",
    "\n",
    "For example, *countString('welcome to nyc(NYC) data science academy!', 'nyc')* should return 2."
   ]
  },
  {
   "cell_type": "markdown",
   "metadata": {
    "internals": {},
    "slideshow": {
     "slide_type": "-"
    }
   },
   "source": [
    "Hint: in order to make you function to be case insensitive, you may transform the arguments to lower or upper case before counting. The *lower/upper* method of string can convert all the characters to lower/upper case."
   ]
  },
  {
   "cell_type": "code",
   "execution_count": null,
   "metadata": {
    "collapsed": false,
    "internals": {},
    "slideshow": {
     "slide_type": "-"
    }
   },
   "outputs": [],
   "source": [
    "'ABCDEFG'.lower()"
   ]
  },
  {
   "cell_type": "code",
   "execution_count": null,
   "metadata": {
    "collapsed": false,
    "internals": {},
    "slideshow": {
     "slide_type": "-"
    }
   },
   "outputs": [],
   "source": [
    "'abcdefg'.upper()"
   ]
  },
  {
   "cell_type": "code",
   "execution_count": null,
   "metadata": {
    "collapsed": false,
    "internals": {},
    "slideshow": {
     "slide_type": "-"
    }
   },
   "outputs": [],
   "source": [
    "### write your function here"
   ]
  },
  {
   "cell_type": "markdown",
   "metadata": {
    "internals": {},
    "slideshow": {
     "slide_type": "-"
    }
   },
   "source": [
    "Here are more examples. Your function should return exactly the same result."
   ]
  },
  {
   "cell_type": "code",
   "execution_count": null,
   "metadata": {
    "collapsed": false,
    "internals": {},
    "slideshow": {
     "slide_type": "-"
    }
   },
   "outputs": [],
   "source": [
    "countString('Welcome to nyc DATA SCIENCE ACADEMY!', 'NYC') # 1"
   ]
  },
  {
   "cell_type": "code",
   "execution_count": null,
   "metadata": {
    "collapsed": false,
    "internals": {},
    "slideshow": {
     "slide_type": "-"
    }
   },
   "outputs": [],
   "source": [
    "countString('Welcome to NYC DATA SCIENCE ACADEMY!', 'nyc') # 1"
   ]
  },
  {
   "cell_type": "code",
   "execution_count": null,
   "metadata": {
    "collapsed": false,
    "internals": {},
    "slideshow": {
     "slide_type": "-"
    }
   },
   "outputs": [],
   "source": [
    "countString('Welcome to nyc(NYC) data science academy!', 'nyc')# 2"
   ]
  },
  {
   "cell_type": "code",
   "execution_count": null,
   "metadata": {
    "collapsed": false,
    "internals": {},
    "slideshow": {
     "slide_type": "-"
    }
   },
   "outputs": [],
   "source": [
    "countString('nyc_nyc__nyb', 'NYC') # 2"
   ]
  },
  {
   "cell_type": "code",
   "execution_count": null,
   "metadata": {
    "collapsed": false,
    "internals": {
     "slide_helper": "subslide_end"
    },
    "slide_helper": "subslide_end",
    "slideshow": {
     "slide_type": "-"
    }
   },
   "outputs": [],
   "source": [
    "countString('welcome to nyc(NYC) data science academy!', '') # 41 or 42, which depends on your approach.  Just be aware of this boundary condition."
   ]
  },
  {
   "cell_type": "markdown",
   "metadata": {
    "internals": {
     "slide_type": "subslide"
    },
    "slideshow": {
     "slide_type": "slide"
    }
   },
   "source": [
    "(4) Recall the last example in question 3, *count_string('welcome to nyc(NYC) data science academy!', '')* returns 42, which is the length of the first argument. It is because we assign nothing to the second argument, so any character was counted. This time you need to rewrite the function **count_string**, if the second argument is still nothing, the function should raise an **ValueError** with message: <p style=\"color: red\">The length of string_to_count should not be 0!</p>\n",
    "\n",
    "Here are some examples:"
   ]
  },
  {
   "cell_type": "code",
   "execution_count": null,
   "metadata": {
    "collapsed": true
   },
   "outputs": [],
   "source": [
    "### write your function here."
   ]
  },
  {
   "cell_type": "code",
   "execution_count": null,
   "metadata": {
    "collapsed": false,
    "internals": {},
    "slideshow": {
     "slide_type": "-"
    }
   },
   "outputs": [],
   "source": [
    "countString('hello, world!', '') \n",
    "# ValueError: The length should not be 0!"
   ]
  },
  {
   "cell_type": "code",
   "execution_count": null,
   "metadata": {
    "collapsed": false,
    "internals": {},
    "slideshow": {
     "slide_type": "-"
    }
   },
   "outputs": [],
   "source": [
    "countString('hello, world!', 'o') # 2"
   ]
  },
  {
   "cell_type": "code",
   "execution_count": null,
   "metadata": {
    "collapsed": false,
    "internals": {
     "slide_helper": "subslide_end"
    },
    "slide_helper": "subslide_end",
    "slideshow": {
     "slide_type": "-"
    }
   },
   "outputs": [],
   "source": [
    "countString('hello, world!', 'l') # 3"
   ]
  },
  {
   "cell_type": "markdown",
   "metadata": {
    "internals": {
     "slide_type": "subslide"
    },
    "slideshow": {
     "slide_type": "slide"
    }
   },
   "source": [
    "(5) Write a function **countAlphabet** to count the number of frequencies of each letter occurs. Your function should return a *dict*. Again, your function should be case insensitive.\n",
    "\n",
    "Line breaks and order are not important."
   ]
  },
  {
   "cell_type": "code",
   "execution_count": null,
   "metadata": {
    "collapsed": false,
    "internals": {},
    "slideshow": {
     "slide_type": "-"
    }
   },
   "outputs": [],
   "source": [
    "### write your function here."
   ]
  },
  {
   "cell_type": "markdown",
   "metadata": {
    "internals": {},
    "slideshow": {
     "slide_type": "-"
    }
   },
   "source": [
    "Here are three examples. Your function should return exactly the same result."
   ]
  },
  {
   "cell_type": "code",
   "execution_count": null,
   "metadata": {
    "collapsed": false,
    "internals": {},
    "slideshow": {
     "slide_type": "-"
    }
   },
   "outputs": [],
   "source": [
    "countAlphabet('')\n",
    "# {'a': 0, 'c': 0, 'b': 0, 'e': 0, 'd': 0, 'g': 0, \\\n",
    "#  'f': 0, 'i': 0, 'h': 0, 'k': 0, 'j': 0, 'm': 0, \\\n",
    "#  'l': 0, 'o': 0, 'n': 0, 'q': 0, 'p': 0, 's': 0, \\\n",
    "#  'r': 0, 'u': 0, 't': 0, 'w': 0, 'v': 0, 'y': 0, \\\n",
    "#  'x': 0, 'z': 0}"
   ]
  },
  {
   "cell_type": "code",
   "execution_count": null,
   "metadata": {
    "collapsed": false,
    "internals": {},
    "slideshow": {
     "slide_type": "-"
    }
   },
   "outputs": [],
   "source": [
    "countAlphabet('ABCabc') \n",
    "# {'a': 2, 'c': 2, 'b': 2, 'e': 0, 'd': 0, 'g': 0, \\\n",
    "#  'f': 0, 'i': 0, 'h': 0, 'k': 0, 'j': 0, 'm': 0, \\\n",
    "#  'l': 0, 'o': 0, 'n': 0, 'q': 0, 'p': 0, 's': 0, \\\n",
    "#  'r': 0, 'u': 0, 't': 0, 'w': 0, 'v': 0, 'y': 0, \\\n",
    "#  'x': 0, 'z': 0}"
   ]
  },
  {
   "cell_type": "code",
   "execution_count": null,
   "metadata": {
    "collapsed": false,
    "internals": {},
    "slideshow": {
     "slide_type": "-"
    }
   },
   "outputs": [],
   "source": [
    "countAlphabet('ABCabc @#$@#^$%*^%*(') \n",
    "# {'a': 2, 'c': 2, 'b': 2, 'e': 0, 'd': 0, 'g': 0, \\\n",
    "#  'f': 0, 'i': 0, 'h': 0, 'k': 0, 'j': 0, 'm': 0, \\\n",
    "#  'l': 0, 'o': 0, 'n': 0, 'q': 0, 'p': 0, 's': 0, \\\n",
    "#  'r': 0, 'u': 0, 't': 0, 'w': 0, 'v': 0, 'y': 0, \\\n",
    "#  'x': 0, 'z': 0}"
   ]
  },
  {
   "cell_type": "code",
   "execution_count": null,
   "metadata": {
    "collapsed": false,
    "internals": {
     "slide_helper": "subslide_end"
    },
    "slide_helper": "subslide_end",
    "slideshow": {
     "slide_type": "-"
    }
   },
   "outputs": [],
   "source": [
    "countAlphabet('welcome to NYC data science acadmy')\n",
    "# {'a': 4, 'c': 5, 'b': 0, 'e': 4, 'd': 2, 'g': 0, \\\n",
    "# 'f': 0, 'i': 1, 'h': 0, 'k': 0, 'j': 0, 'm': 2, \\\n",
    "# 'l': 1, 'o': 2, 'n': 2, 'q': 0, 'p': 0, 's': 1, \\\n",
    "# 'r': 0, 'u': 0, 't': 2, 'w': 1, 'v': 0, 'y': 2, \\\n",
    "# 'x': 0, 'z': 0}"
   ]
  },
  {
   "cell_type": "markdown",
   "metadata": {
    "internals": {
     "slide_helper": "subslide_end"
    },
    "slide_helper": "slide_end",
    "slideshow": {
     "slide_type": "-"
    }
   },
   "source": [
    "Hint: *[chr(i)  for i in range(97, 123)]* is faster way to get the alphabet."
   ]
  },
  {
   "cell_type": "markdown",
   "metadata": {
    "internals": {
     "slide_type": "subslide"
    },
    "slideshow": {
     "slide_type": "slide"
    }
   },
   "source": [
    "(6) Similar to question 5, write a function **countLetter** to count the number of frequencies of each letter occurs. In this case your function should only return the frequencies of letters that really occurs."
   ]
  },
  {
   "cell_type": "code",
   "execution_count": null,
   "metadata": {
    "collapsed": false,
    "internals": {},
    "slideshow": {
     "slide_type": "-"
    }
   },
   "outputs": [],
   "source": [
    "### write your function here"
   ]
  },
  {
   "cell_type": "markdown",
   "metadata": {
    "internals": {},
    "slideshow": {
     "slide_type": "-"
    }
   },
   "source": [
    "Here are some examples. Your function should return exactly the same result."
   ]
  },
  {
   "cell_type": "code",
   "execution_count": null,
   "metadata": {
    "collapsed": false,
    "internals": {},
    "slideshow": {
     "slide_type": "-"
    }
   },
   "outputs": [],
   "source": [
    "countLetter('') # {}"
   ]
  },
  {
   "cell_type": "code",
   "execution_count": null,
   "metadata": {
    "collapsed": false,
    "internals": {},
    "slideshow": {
     "slide_type": "-"
    }
   },
   "outputs": [],
   "source": [
    "countLetter('ABCabc') # {'a': 2, 'b': 2, 'c': 2}"
   ]
  },
  {
   "cell_type": "code",
   "execution_count": null,
   "metadata": {
    "collapsed": false,
    "internals": {},
    "slideshow": {
     "slide_type": "-"
    }
   },
   "outputs": [],
   "source": [
    "countLetter('ABCabc @#$@#^$%*^%*(') # {'a': 2, 'b': 2, 'c': 2}"
   ]
  },
  {
   "cell_type": "code",
   "execution_count": null,
   "metadata": {
    "collapsed": false,
    "internals": {
     "slide_helper": "subslide_end"
    },
    "slide_helper": "subslide_end",
    "slideshow": {
     "slide_type": "-"
    }
   },
   "outputs": [],
   "source": [
    "countLetter('welcome to NYC data science acadmy')\n",
    "# {'a': 4, 'c': 5, 'e': 4, 'd': 2, 'i': 1, 'm': 2, \\\n",
    "# 'l': 1, 'o': 2, 'n': 2, 's': 1, 't': 2, 'w': 1, 'y': 2}"
   ]
  },
  {
   "cell_type": "markdown",
   "metadata": {
    "internals": {
     "slide_type": "subslide"
    },
    "slideshow": {
     "slide_type": "slide"
    }
   },
   "source": [
    "(7) Write a function *countWord* to count the number of frequencies of each word occurs. Hint: you should split the string into a list by all the punctuations and space before counting.\n",
    "\n",
    "To get all the punctuations, import the **string** module."
   ]
  },
  {
   "cell_type": "code",
   "execution_count": null,
   "metadata": {
    "collapsed": false,
    "internals": {},
    "slideshow": {
     "slide_type": "-"
    }
   },
   "outputs": [],
   "source": [
    "import string\n",
    "string.punctuation"
   ]
  },
  {
   "cell_type": "code",
   "execution_count": null,
   "metadata": {
    "collapsed": false,
    "internals": {},
    "slideshow": {
     "slide_type": "-"
    }
   },
   "outputs": [],
   "source": [
    "### write your function here."
   ]
  },
  {
   "cell_type": "markdown",
   "metadata": {
    "internals": {},
    "slideshow": {
     "slide_type": "-"
    }
   },
   "source": [
    "Here are three examples. Your function should return exactly the same result."
   ]
  },
  {
   "cell_type": "code",
   "execution_count": null,
   "metadata": {
    "collapsed": false,
    "internals": {},
    "slideshow": {
     "slide_type": "-"
    }
   },
   "outputs": [],
   "source": [
    "countWord('hey, how are you? Im fine, and you?')\n",
    "# {'and': 1, 'are': 1, 'fine': 1, 'hey': 1, \\\n",
    "#  'how': 1, 'im': 1, 'you': 2}"
   ]
  },
  {
   "cell_type": "code",
   "execution_count": null,
   "metadata": {
    "collapsed": false,
    "internals": {},
    "slideshow": {
     "slide_type": "-"
    }
   },
   "outputs": [],
   "source": [
    "countWord('Repeat me three times!Repeat me three times!Repeat me three times!')\n",
    "# {'me': 3, 'repeat': 3, 'three': 3, 'times': 3}"
   ]
  },
  {
   "cell_type": "code",
   "execution_count": null,
   "metadata": {
    "collapsed": false,
    "internals": {
     "slide_helper": "subslide_end"
    },
    "slide_helper": "subslide_end",
    "slideshow": {
     "slide_type": "-"
    }
   },
   "outputs": [],
   "source": [
    "countWord('Vivian:Is this function hard? Jack:Not really hard.') # '':2 is not crucial.  But give a try.\n",
    "# {'function': 1, '': 2, 'vivian': 1, 'this': 1, 'is': 1, \\\n",
    "#  'hard': 2, 'jack': 1, 'not': 1, 'really': 1}"
   ]
  },
  {
   "cell_type": "markdown",
   "metadata": {
    "internals": {
     "slide_type": "subslide"
    },
    "slideshow": {
     "slide_type": "slide"
    }
   },
   "source": [
    "(8) Write an iterative function, **gcdIter(a, b)**, that return the greatest common divisor of two positive integers a and b. The simplest way to solve this problem is initialize a divisor as the smaller one of a and b, and divided a and b by the divisor. If the remainder is not 0, decrease the divisor by 1 until it can be divided by a and b with remainders 0.\n",
    "\n",
    "The greatest common divisor of two positive integers is the largest integer that divides each of them without remainder. For example:\n",
    "\n",
    "$$\\begin{align}\n",
    "gcd(2, 3) &= 1 \\\\\n",
    "gcd(12, 2) &= 2 \\\\\n",
    "gcd(12, 3) &= 3 \\\\\n",
    "gcd(12, 4) &= 4\n",
    "\\end{align}\n",
    "$$\n"
   ]
  },
  {
   "cell_type": "code",
   "execution_count": null,
   "metadata": {
    "collapsed": false,
    "internals": {},
    "slideshow": {
     "slide_type": "-"
    }
   },
   "outputs": [],
   "source": [
    "### write your function here"
   ]
  },
  {
   "cell_type": "markdown",
   "metadata": {
    "internals": {},
    "slideshow": {
     "slide_type": "-"
    }
   },
   "source": [
    "Here are three examples. Your function should return exactly the same result."
   ]
  },
  {
   "cell_type": "code",
   "execution_count": null,
   "metadata": {
    "collapsed": false,
    "internals": {},
    "slideshow": {
     "slide_type": "-"
    }
   },
   "outputs": [],
   "source": [
    "gcdIter(3, 5) # 1"
   ]
  },
  {
   "cell_type": "code",
   "execution_count": null,
   "metadata": {
    "collapsed": false,
    "internals": {},
    "slideshow": {
     "slide_type": "-"
    }
   },
   "outputs": [],
   "source": [
    "gcdIter(14, 2) # 2"
   ]
  },
  {
   "cell_type": "code",
   "execution_count": null,
   "metadata": {
    "collapsed": false,
    "internals": {},
    "slideshow": {
     "slide_type": "-"
    }
   },
   "outputs": [],
   "source": [
    "gcdIter(57, 33) # 3"
   ]
  },
  {
   "cell_type": "code",
   "execution_count": null,
   "metadata": {
    "collapsed": false,
    "internals": {},
    "slideshow": {
     "slide_type": "-"
    }
   },
   "outputs": [],
   "source": [
    "gcdIter(187, 85) # 17"
   ]
  },
  {
   "cell_type": "code",
   "execution_count": null,
   "metadata": {
    "collapsed": false,
    "internals": {
     "slide_helper": "subslide_end"
    },
    "slide_helper": "subslide_end",
    "slideshow": {
     "slide_type": "-"
    }
   },
   "outputs": [],
   "source": [
    "gcdIter(179, 179) # 179"
   ]
  },
  {
   "cell_type": "markdown",
   "metadata": {
    "internals": {
     "slide_type": "subslide"
    },
    "slideshow": {
     "slide_type": "slide"
    }
   },
   "source": [
    "(9) A trick (due to Euclid) makes it easy to find greatest common divisors. Suppose that a and b are two non-negative integers and a > b:\n",
    "\n",
    "- If b=0, then gcd(a, b) = a.\n",
    "\n",
    "- Otherwise, gcd(a, b) is the same as gcd(b, a % b).\n",
    "\n",
    "- [See more details about this trick](https://en.wikipedia.org/wiki/Euclidean_algorithm#Worked_example).\n",
    "\n",
    "Try to write a function **gcdRecur(a, b)** to implement this idea recursively. Your function should not contain any *for* loops or *while* loops. We have learned a example of recursively calculating the nth Fibonacci number without loop:"
   ]
  },
  {
   "cell_type": "code",
   "execution_count": null,
   "metadata": {
    "collapsed": false,
    "internals": {},
    "slideshow": {
     "slide_type": "-"
    }
   },
   "outputs": [],
   "source": [
    "def fib(n):\n",
    "    \"\"\"Calculates nth Fibonacci number\"\"\"\n",
    "    if n == 0:\n",
    "        return 1\n",
    "    elif n == 1:\n",
    "        return 1\n",
    "    else:\n",
    "        return fib(n - 1) + fib(n - 2)"
   ]
  },
  {
   "cell_type": "code",
   "execution_count": null,
   "metadata": {
    "collapsed": false,
    "internals": {},
    "slideshow": {
     "slide_type": "-"
    }
   },
   "outputs": [],
   "source": [
    "### write your function here."
   ]
  },
  {
   "cell_type": "markdown",
   "metadata": {
    "internals": {},
    "slideshow": {
     "slide_type": "-"
    }
   },
   "source": [
    "Your function should pass the same tests in question 8."
   ]
  },
  {
   "cell_type": "code",
   "execution_count": null,
   "metadata": {
    "collapsed": false,
    "internals": {},
    "slideshow": {
     "slide_type": "-"
    }
   },
   "outputs": [],
   "source": [
    "print gcdRecur(3, 5) # 1\n",
    "print gcdRecur(14, 2) # 2\n",
    "print gcdRecur(57, 33) # 3\n",
    "print gcdRecur(179, 179) # 179"
   ]
  },
  {
   "cell_type": "markdown",
   "metadata": {
    "internals": {},
    "slideshow": {
     "slide_type": "-"
    }
   },
   "source": [
    "And here is a example which may make you realize the difference between **gcdIter** and **gcdRecur**."
   ]
  },
  {
   "cell_type": "code",
   "execution_count": null,
   "metadata": {
    "collapsed": false,
    "internals": {},
    "slideshow": {
     "slide_type": "-"
    }
   },
   "outputs": [],
   "source": [
    "gcdIter(1790007987, 12343455)  # 3"
   ]
  },
  {
   "cell_type": "code",
   "execution_count": null,
   "metadata": {
    "collapsed": false,
    "internals": {},
    "slideshow": {
     "slide_type": "-"
    }
   },
   "outputs": [],
   "source": [
    "gcdRecur(1790007987, 12343455) # 3"
   ]
  },
  {
   "cell_type": "code",
   "execution_count": null,
   "metadata": {
    "collapsed": false,
    "internals": {
     "slide_helper": "subslide_end"
    },
    "slide_helper": "subslide_end",
    "slideshow": {
     "slide_type": "-"
    }
   },
   "outputs": [],
   "source": [
    "### a script to count the time of each function\n",
    "import time\n",
    "t1 = time.clock()\n",
    "gcdIter(1790007987, 12343455)\n",
    "t2 = time.clock()\n",
    "gcdRecur(1790007987, 12343455) # 3\n",
    "t3 = time.clock()\n",
    "\n",
    "print '''\n",
    "The time of gcdIter  cost is %.5f.\n",
    "The time of gcdRecur cost is %.5f.\n",
    "''' %(t2 - t1, t3 - t2)"
   ]
  },
  {
   "cell_type": "markdown",
   "metadata": {
    "internals": {
     "slide_type": "subslide"
    },
    "slideshow": {
     "slide_type": "slide"
    }
   },
   "source": [
    "(10) The **bisection method** in mathematics is a root-finding method that repeatedly bisects an interval and then selects a subinterval in which a root must lie for further processing.\n",
    "\n",
    "Given a continuous function *f* and an interval $[a, b]$, which satisfies that the values of $f(a)$ and $f(b)$ are opposite, say $f(a)*f(b) < 0$(there is at least one zero crossing within the interval).\n",
    "\n",
    "- Calculate $c$, the midpoint of the interval, $c = 0.5 * (a + b)$.\n",
    "- Calculate the function value at the midpoint, $f(c)$.\n",
    "- If convergence is satisfactory (that is, $f(c)$ is sufficiently small), return $c$ and stop iterating."
   ]
  },
  {
   "cell_type": "code",
   "execution_count": null,
   "metadata": {
    "collapsed": false,
    "internals": {},
    "slideshow": {
     "slide_type": "-"
    }
   },
   "outputs": [],
   "source": [
    "from IPython.display import Image\n",
    "Image(url='http://upload.wikimedia.org/wikipedia/commons/thumb/8/8c/Bisection_method.svg/640px-Bisection_method.svg.png')"
   ]
  },
  {
   "cell_type": "markdown",
   "metadata": {
    "internals": {},
    "slideshow": {
     "slide_type": "-"
    }
   },
   "source": [
    "Write a function **binarySearchIter(fun, start, end,  eps)** to implement this idea, find the root of function *fun* in the interval $[start, end]$. Repeat the iteration until the absolute value of *fun(c)* is smaller than *eps*, and *eps* is a very small number, $10^{-10}$ for example. If $fun(start)*fun(end) \\ge 0$, raise an error with message <p style=\"color: red\">The sign of fun(start) and fun(end) should be opposite!</p>"
   ]
  },
  {
   "cell_type": "code",
   "execution_count": null,
   "metadata": {
    "collapsed": false,
    "internals": {},
    "slideshow": {
     "slide_type": "-"
    }
   },
   "outputs": [],
   "source": [
    "### write your function here"
   ]
  },
  {
   "cell_type": "markdown",
   "metadata": {
    "internals": {},
    "slideshow": {
     "slide_type": "-"
    }
   },
   "source": [
    "Here are three examples. Your function should return almost the same result."
   ]
  },
  {
   "cell_type": "code",
   "execution_count": null,
   "metadata": {
    "collapsed": false,
    "internals": {},
    "slideshow": {
     "slide_type": "-"
    }
   },
   "outputs": [],
   "source": [
    "def f(x):\n",
    "    return x ** 2 - 2\n",
    "binarySearchIter(f, -3, 0, eps = 1e-10) # -1.4142135623842478"
   ]
  },
  {
   "cell_type": "code",
   "execution_count": null,
   "metadata": {
    "collapsed": false,
    "internals": {},
    "slideshow": {
     "slide_type": "-"
    }
   },
   "outputs": [],
   "source": [
    "binarySearchIter(f, 0, 3, eps = 1e-10) # 1.4142135623842478"
   ]
  },
  {
   "cell_type": "code",
   "execution_count": null,
   "metadata": {
    "collapsed": false,
    "internals": {},
    "slideshow": {
     "slide_type": "-"
    }
   },
   "outputs": [],
   "source": [
    "binarySearchIter(lambda x: x ** 3 - 27, 0, 5, eps = 1e-10) # 3.000000000001819"
   ]
  },
  {
   "cell_type": "code",
   "execution_count": null,
   "metadata": {
    "collapsed": false,
    "internals": {},
    "slideshow": {
     "slide_type": "-"
    }
   },
   "outputs": [],
   "source": [
    "binarySearchIter(lambda x: x ** 3 + 27, -5, 0, eps = 1e-10) # -3.000000000001819"
   ]
  },
  {
   "cell_type": "code",
   "execution_count": null,
   "metadata": {
    "collapsed": false,
    "internals": {
     "slide_helper": "subslide_end"
    },
    "slide_helper": "subslide_end",
    "slideshow": {
     "slide_type": "-"
    }
   },
   "outputs": [],
   "source": [
    "binarySearchIter(lambda x: x ** 3 + 27, 0, 5, eps = 1e-10) \n",
    "# ValueError: The sign of fun(start) and fun(end) should be opposite!"
   ]
  },
  {
   "cell_type": "markdown",
   "metadata": {
    "internals": {
     "slide_type": "subslide"
    },
    "slideshow": {
     "slide_type": "slide"
    }
   },
   "source": [
    "(11) In this case, please write a function **binarySearchRecur(fun, start, end,  eps)** to implement the binary search algorithm recursively. Your function should not contain any loops, which is the difference from **binarySearchIter**."
   ]
  },
  {
   "cell_type": "code",
   "execution_count": null,
   "metadata": {
    "collapsed": false,
    "internals": {},
    "slideshow": {
     "slide_type": "-"
    }
   },
   "outputs": [],
   "source": [
    "### write your function here"
   ]
  },
  {
   "cell_type": "markdown",
   "metadata": {
    "internals": {},
    "slideshow": {
     "slide_type": "-"
    }
   },
   "source": [
    "Your function should pass the same tests as in question 10."
   ]
  },
  {
   "cell_type": "code",
   "execution_count": null,
   "metadata": {
    "collapsed": false,
    "internals": {},
    "slideshow": {
     "slide_type": "-"
    }
   },
   "outputs": [],
   "source": [
    "def f(x):\n",
    "    return x ** 2 - 2\n",
    "binarySearchRecur(f, -3, 0, eps = 1e-10) # -1.4142135623842478"
   ]
  },
  {
   "cell_type": "code",
   "execution_count": null,
   "metadata": {
    "collapsed": false,
    "internals": {},
    "slideshow": {
     "slide_type": "-"
    }
   },
   "outputs": [],
   "source": [
    "binarySearchRecur(f, 0, 3, eps = 1e-10) # 1.4142135623842478"
   ]
  },
  {
   "cell_type": "code",
   "execution_count": null,
   "metadata": {
    "collapsed": false,
    "internals": {},
    "slideshow": {
     "slide_type": "-"
    }
   },
   "outputs": [],
   "source": [
    "binarySearchRecur(lambda x: x ** 3 - 27, 0, 5, eps = 1e-10) # 3.000000000001819"
   ]
  },
  {
   "cell_type": "code",
   "execution_count": null,
   "metadata": {
    "collapsed": false,
    "internals": {},
    "slideshow": {
     "slide_type": "-"
    }
   },
   "outputs": [],
   "source": [
    "binarySearchRecur(lambda x: x ** 3 + 27, -5, 0, eps = 1e-10) # -3.000000000001819"
   ]
  },
  {
   "cell_type": "code",
   "execution_count": null,
   "metadata": {
    "collapsed": false,
    "internals": {
     "slide_helper": "subslide_end"
    },
    "slide_helper": "subslide_end",
    "slideshow": {
     "slide_type": "-"
    }
   },
   "outputs": [],
   "source": [
    "binarySearchRecur(lambda x: x ** 3 + 27, 0, 5, eps = 1e-10) \n",
    "# ValueError: The sign of fun(start) and fun(end) should be opposite!"
   ]
  }
 ],
 "metadata": {
  "kernelspec": {
   "display_name": "Python 2",
   "language": "python",
   "name": "python2"
  },
  "language_info": {
   "codemirror_mode": {
    "name": "ipython",
    "version": 2
   },
   "file_extension": ".py",
   "mimetype": "text/x-python",
   "name": "python",
   "nbconvert_exporter": "python",
   "pygments_lexer": "ipython2",
   "version": "2.7.10"
  }
 },
 "nbformat": 4,
 "nbformat_minor": 0
}
