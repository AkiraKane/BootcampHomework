{
 "cells": [
  {
   "cell_type": "markdown",
   "metadata": {},
   "source": [
    "** Save your ipython notebook with your name and push to bootcamp003_student**"
   ]
  },
  {
   "cell_type": "markdown",
   "metadata": {},
   "source": [
    "## Question 1: Palindrome String\n",
    "\n",
    "\"A palindrome is a word, phrase, number, or other sequence of characters which reads the same backward or forward\" ([wiki](https://en.wikipedia.org/wiki/Palindrome)).  In this question, you will write a function `validPalindrome` to check whether the input string is a palindrome (return `True` of `False`).\n",
    "\n",
    "+ Optional requirement:  your program should have a runtime of `O(n)`, and use `O(1)` additional space.\n",
    "\n",
    "+ Hint: think about which data structure is the best choice.  Find the answer [here](https://docs.python.org/2/library/collections.html#deque-objects).\n",
    "\n",
    "+ If you want to addtional challenge, try the [leetcode version](https://leetcode.com/problems/valid-palindrome/)."
   ]
  },
  {
   "cell_type": "code",
   "execution_count": null,
   "metadata": {
    "collapsed": false
   },
   "outputs": [],
   "source": [
    "### Test cases\n",
    "print validPalindrome(\"a\") # True\n",
    "print validPalindrome(\"aba\") # True\n",
    "print validPalindrome(\"a bb a\") # True\n",
    "print validPalindrome(\"abc\") # False\n",
    "print validPalindrome(\"abA\") # False"
   ]
  },
  {
   "cell_type": "markdown",
   "metadata": {},
   "source": [
    "## Question 2: Valid Parentheses \n",
    "This question is from [leetcode](https://leetcode.com/problems/valid-parentheses/):\n",
    "Given a string containing just the characters '(', ')', '{', '}', '[' and ']', determine if the input string is valid.\n",
    "The brackets must close in the correct order, \"()\" and \"()[]{}\" are all valid but \"(]\" and \"([)]\" are not.\n",
    "\n",
    "Think about the correct data structure to use.  Add your solution here.  Try to make your code tide and clean.\n",
    "\n",
    "+ Hint: check how to implement the needed data structure [here](https://docs.python.org/2/tutorial/datastructures.html#using-lists-as-stacks)."
   ]
  },
  {
   "cell_type": "code",
   "execution_count": 1,
   "metadata": {
    "collapsed": true
   },
   "outputs": [],
   "source": [
    "### Write your function here.\n"
   ]
  },
  {
   "cell_type": "code",
   "execution_count": null,
   "metadata": {
    "collapsed": false
   },
   "outputs": [],
   "source": [
    "### Test cases\n",
    "print validParentheses(\"()[]{}\") # True\n",
    "print validParentheses(\"([)]{}\") # False\n",
    "print validParentheses(\"({[]})\") # True"
   ]
  },
  {
   "cell_type": "markdown",
   "metadata": {},
   "source": [
    "## Question 3: Tree Structure\n",
    "Use the default `list` from Python to create a BinaryTree.  It supports the following functionalities:\n",
    "    \n",
    "1. get the value of the given node\n",
    "2. Given a node, return its left child node, return `None` if no such node\n",
    "3. Given a node, return its right child node, return `None` if no such node\n",
    "4. Given a node, insert a new node as its left child node\n",
    "5. Given a node, insert a new node as its right child node\n",
    "6. [Optional] remove a child node\n",
    "7. [Optional] write test code to verify your code working correctly.\n",
    "\n",
    "+ [Easy approach] The input is a number.  So Node(1) will initalize a node with value=1 and empty child nodes.\n",
    "+ [Hard approach] The input list looks like `[1, [2,3,None], [3, [1,None,3], 2]]`.  The second item of the list is the left child, and the right child is the third item in the list.\n",
    "\n",
    "Hint:\n",
    "    1. root node is still a node\n",
    "    2. you should define a node class to support the above methods."
   ]
  },
  {
   "cell_type": "code",
   "execution_count": null,
   "metadata": {
    "collapsed": true
   },
   "outputs": [],
   "source": [
    "### Write your function here.\n"
   ]
  }
 ],
 "metadata": {
  "kernelspec": {
   "display_name": "Python 2",
   "language": "python",
   "name": "python2"
  },
  "language_info": {
   "codemirror_mode": {
    "name": "ipython",
    "version": 2
   },
   "file_extension": ".py",
   "mimetype": "text/x-python",
   "name": "python",
   "nbconvert_exporter": "python",
   "pygments_lexer": "ipython2",
   "version": "2.7.10"
  }
 },
 "nbformat": 4,
 "nbformat_minor": 0
}
