{
 "cells": [
  {
   "cell_type": "markdown",
   "metadata": {},
   "source": [
    "** Save your ipython notebook with your name and push to bootcamp003_student**"
   ]
  },
  {
   "cell_type": "markdown",
   "metadata": {},
   "source": [
    "## Question 1: Palindrome String\n",
    "\n",
    "\"A palindrome is a word, phrase, number, or other sequence of characters which reads the same backward or forward\" ([wiki](https://en.wikipedia.org/wiki/Palindrome)).  In this question, you will write a function `validPalindrome` to check whether the input string is a palindrome (return `True` of `False`).\n",
    "\n",
    "+ Optional requirement:  your program should have a runtime of `O(n)`, and use `O(1)` additional space.\n",
    "\n",
    "+ Hint: think about which data structure is the best choice.  Find the answer [here](https://docs.python.org/2/library/collections.html#deque-objects).\n",
    "\n",
    "+ If you want to addtional challenge, try the [leetcode version](https://leetcode.com/problems/valid-palindrome/)."
   ]
  },
  {
   "cell_type": "code",
   "execution_count": 13,
   "metadata": {
    "collapsed": false
   },
   "outputs": [
    {
     "name": "stdout",
     "output_type": "stream",
     "text": [
      "True\n",
      "True\n",
      "True\n",
      "False\n",
      "False\n"
     ]
    }
   ],
   "source": [
    "import collections\n",
    "\n",
    "def validPalindrome(String):\n",
    "    string = collections.deque(String)\n",
    "    fwdstr = list(string)\n",
    "    revstr = list(reversed(string))\n",
    "#     print fwdstr\n",
    "#     print revstr\n",
    "    return fwdstr == revstr\n",
    "\n",
    "### Test cases\n",
    "print validPalindrome(\"a\") # True\n",
    "print validPalindrome(\"aba\") # True\n",
    "print validPalindrome(\"a bb a\") # True\n",
    "print validPalindrome(\"abc\") # False\n",
    "print validPalindrome(\"abA\") # False"
   ]
  },
  {
   "cell_type": "markdown",
   "metadata": {},
   "source": [
    "## Question 2: Valid Parentheses \n",
    "This question is from [leetcode](https://leetcode.com/problems/valid-parentheses/):\n",
    "Given a string containing just the characters '(', ')', '{', '}', '[' and ']', determine if the input string is valid.\n",
    "The brackets must close in the correct order, \"()\" and \"()[]{}\" are all valid but \"(]\" and \"([)]\" are not.\n",
    "\n",
    "Think about the correct data structure to use.  Add your solution here.  Try to make your code tide and clean.\n",
    "\n",
    "+ Hint: check how to implement the needed data structure [here](https://docs.python.org/2/tutorial/datastructures.html#using-lists-as-stacks)."
   ]
  },
  {
   "cell_type": "code",
   "execution_count": 73,
   "metadata": {
    "collapsed": false
   },
   "outputs": [],
   "source": [
    "### Write your function here.\n",
    "def validParentheses(string):\n",
    "    brackets = []\n",
    "\n",
    "    for i in range(0, len(string)):\n",
    "#         print \"iteration: %r\" %i\n",
    "        if(string[i]=='(' or string[i]=='{' or string[i]=='['):\n",
    "            brackets.append(string[i])\n",
    "#             print brackets\n",
    "        else:\n",
    "            test = brackets.pop()\n",
    "            \n",
    "            if (test == '(' and string[i] == ')'):\n",
    "#                 print \"MATCH ()\"\n",
    "                pass\n",
    "            elif (test == '{' and string[i] == '}'):\n",
    "#                 print \"MATCH {}\"\n",
    "                pass\n",
    "            elif (test == '[' and string[i] == ']'):\n",
    "#                 print \"MATCH []\"\n",
    "                pass\n",
    "            else:\n",
    "                brackets.append(test)\n",
    "                \n",
    "    return len(brackets) == 0"
   ]
  },
  {
   "cell_type": "code",
   "execution_count": 74,
   "metadata": {
    "collapsed": false
   },
   "outputs": [
    {
     "name": "stdout",
     "output_type": "stream",
     "text": [
      "True\n",
      "False\n",
      "True\n"
     ]
    }
   ],
   "source": [
    "### Test cases\n",
    "print validParentheses(\"()[]{}\") # True\n",
    "print validParentheses(\"([)]{}\") # False\n",
    "print validParentheses(\"({[]})\") # True"
   ]
  },
  {
   "cell_type": "markdown",
   "metadata": {},
   "source": [
    "## Question 3: Tree Structure\n",
    "Use the default `list` from Python to create a BinaryTree.  It supports the following functionalities:\n",
    "    \n",
    "1. get the value of the given node\n",
    "2. Given a node, return its left child node, return `None` if no such node\n",
    "3. Given a node, return its right child node, return `None` if no such node\n",
    "4. Given a node, insert a new node as its left child node\n",
    "5. Given a node, insert a new node as its right child node\n",
    "6. [Optional] remove a child node\n",
    "7. [Optional] write test code to verify your code working correctly.\n",
    "\n",
    "+ [Easy approach] The input is a number.  So Node(1) will initalize a node with value=1 and empty child nodes.\n",
    "+ [Hard approach] The input list looks like `[1, [2,3,None], [3, [1,None,3], 2]]`.  The second item of the list is the left child, and the right child is the third item in the list.\n",
    "\n",
    "Hint:\n",
    "    1. root node is still a node\n",
    "    2. you should define a node class to support the above methods."
   ]
  },
  {
   "cell_type": "code",
   "execution_count": 485,
   "metadata": {
    "collapsed": false
   },
   "outputs": [],
   "source": [
    "class Node(object):\n",
    "    def __init__(self, value, left = None, right = None):\n",
    "        self.value = value\n",
    "        self.left = left\n",
    "        self.right = right\n",
    "        print \"Node Created!\"\n",
    "        \n",
    "    def __repr__(self):\n",
    "        return \"PRINTING NODE: (VAL: %r L: %r R: %r)\" %(self.value, self.left, self.right)\n",
    "    \n",
    "    def getValue(self):\n",
    "        return self.value\n",
    "    \n",
    "    def addLeft(self, left):\n",
    "        if self.left == None:\n",
    "            self.left = left\n",
    "            print \"Added %r to the left child\" %left\n",
    "        else:\n",
    "            print \"Node already has left child, must remove.\"\n",
    "            \n",
    "    def addRight(self, right):\n",
    "        if self.right == None:\n",
    "            self.right = right\n",
    "            print \"Added %r to the rigt child\" %right\n",
    "        else:\n",
    "            print \"Node already has right child, must remove.\"\n",
    "            \n",
    "    def rmLeft(self):\n",
    "        if self.left == None:\n",
    "            print \"No left child to remove.\"\n",
    "        else:\n",
    "            self.left = None\n",
    "            print \"Left child removed.\"\n",
    "        \n",
    "    def rmRight(self):\n",
    "        if self.right == None:\n",
    "            print \"No right child to remove.\"\n",
    "        else:\n",
    "            self.right = None\n",
    "            print \"Right child removed.\"\n"
   ]
  },
  {
   "cell_type": "code",
   "execution_count": 493,
   "metadata": {
    "collapsed": false
   },
   "outputs": [
    {
     "name": "stdout",
     "output_type": "stream",
     "text": [
      "Node Created!\n",
      "PRINTING NODE: (VAL: 1 L: None R: None)\n",
      "My Node Value: 1\n",
      "Added 3 to the left child\n",
      "PRINTING NODE: (VAL: 1 L: 3 R: None)\n",
      "Added 4 to the rigt child\n",
      "PRINTING NODE: (VAL: 1 L: 3 R: 4)\n",
      "Node already has left child, must remove.\n",
      "Left child removed.\n",
      "PRINTING NODE: (VAL: 1 L: None R: 4)\n",
      "Added 6 to the left child\n",
      "PRINTING NODE: (VAL: 1 L: 6 R: 4)\n"
     ]
    }
   ],
   "source": [
    "myNode = Node(1)\n",
    "print myNode\n",
    "print \"My Node Value: %r\" %myNode.getValue()\n",
    "myNode.addLeft(3)\n",
    "print myNode\n",
    "myNode.addRight(4)\n",
    "print myNode\n",
    "myNode.addLeft(6)\n",
    "myNode.rmLeft()\n",
    "print myNode\n",
    "myNode.addLeft(6)\n",
    "print myNode"
   ]
  },
  {
   "cell_type": "code",
   "execution_count": 501,
   "metadata": {
    "collapsed": false
   },
   "outputs": [],
   "source": [
    "class Tree(object):\n",
    "    def __init__(self, value, left = None, right = None):\n",
    "        if value == None:\n",
    "            self.value = None\n",
    "        elif type(value) is list:\n",
    "            self.value = Tree(value[0], value[1], value[2])\n",
    "        else:\n",
    "            self.value = value\n",
    "\n",
    "        if left == None:\n",
    "            self.left = None\n",
    "        elif type(left) is list:\n",
    "            self.left = Tree(left[0], left[1], left[2])\n",
    "        else:\n",
    "            self.left = left\n",
    "\n",
    "        if right == None:\n",
    "            self.right = None\n",
    "        elif type(right) is list:\n",
    "            self.right = Tree(right[0], right[1], right[2])\n",
    "        else:\n",
    "            self.right = right\n",
    "                \n",
    "    def __repr__(self):\n",
    "        return \"\\nNODE: (\\tV: %r \\tL: %r \\tR: %r)\" %(self.value, self.left, self.right)"
   ]
  },
  {
   "cell_type": "code",
   "execution_count": 502,
   "metadata": {
    "collapsed": false
   },
   "outputs": [
    {
     "name": "stdout",
     "output_type": "stream",
     "text": [
      "\n",
      "NODE: (\tV: 1 \tL: \n",
      "NODE: (\tV: 2 \tL: 3 \tR: None) \tR: \n",
      "NODE: (\tV: 3 \tL: \n",
      "NODE: (\tV: 1 \tL: None \tR: 3) \tR: 2))\n"
     ]
    }
   ],
   "source": [
    "myTree = Tree(1, [2,3,None], [3, [1,None,3], 2])\n",
    "print myTree"
   ]
  }
 ],
 "metadata": {
  "kernelspec": {
   "display_name": "Python 2",
   "language": "python",
   "name": "python2"
  },
  "language_info": {
   "codemirror_mode": {
    "name": "ipython",
    "version": 2
   },
   "file_extension": ".py",
   "mimetype": "text/x-python",
   "name": "python",
   "nbconvert_exporter": "python",
   "pygments_lexer": "ipython2",
   "version": "2.7.10"
  }
 },
 "nbformat": 4,
 "nbformat_minor": 0
}
