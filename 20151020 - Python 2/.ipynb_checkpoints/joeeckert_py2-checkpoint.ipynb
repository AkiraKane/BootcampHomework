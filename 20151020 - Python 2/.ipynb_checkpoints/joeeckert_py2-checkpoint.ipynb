{
 "cells": [
  {
   "cell_type": "markdown",
   "metadata": {},
   "source": [
    "**Save your ipython notebook with your name and push to bootcamp003_student**"
   ]
  },
  {
   "cell_type": "markdown",
   "metadata": {
    "internals": {
     "slide_helper": "subslide_end",
     "slide_type": "subslide"
    },
    "slide_helper": "slide_end",
    "slideshow": {
     "slide_type": "slide"
    }
   },
   "source": [
    "# Part 1: Class"
   ]
  },
  {
   "cell_type": "markdown",
   "metadata": {
    "internals": {
     "slide_type": "subslide"
    },
    "slideshow": {
     "slide_type": "slide"
    }
   },
   "source": [
    "(1) Define a new class named **Coordinate**, which is used to represent a  2D coordinate system. Initialize two attributes *x* and *y* when create a object."
   ]
  },
  {
   "cell_type": "code",
   "execution_count": 3,
   "metadata": {
    "collapsed": false,
    "internals": {},
    "slideshow": {
     "slide_type": "-"
    }
   },
   "outputs": [],
   "source": [
    "class Coordinate(object):\n",
    "    def __init__(self, x, y):\n",
    "        self.x = x\n",
    "        self.y = y"
   ]
  },
  {
   "cell_type": "markdown",
   "metadata": {
    "internals": {},
    "slideshow": {
     "slide_type": "-"
    }
   },
   "source": [
    "Here are some tests:"
   ]
  },
  {
   "cell_type": "code",
   "execution_count": 4,
   "metadata": {
    "collapsed": false,
    "internals": {},
    "slideshow": {
     "slide_type": "-"
    }
   },
   "outputs": [
    {
     "name": "stdout",
     "output_type": "stream",
     "text": [
      "2\n",
      "3\n"
     ]
    }
   ],
   "source": [
    "coor1 = Coordinate(2, 3)\n",
    "print coor1.x # 2\n",
    "print coor1.y # 3"
   ]
  },
  {
   "cell_type": "code",
   "execution_count": 5,
   "metadata": {
    "collapsed": false,
    "internals": {
     "slide_helper": "subslide_end"
    },
    "slide_helper": "slide_end",
    "slideshow": {
     "slide_type": "-"
    }
   },
   "outputs": [
    {
     "name": "stdout",
     "output_type": "stream",
     "text": [
      "-5\n",
      "15\n"
     ]
    }
   ],
   "source": [
    "coor1 = Coordinate(-5, 15)\n",
    "print coor1.x # -5\n",
    "print coor1.y # 15"
   ]
  },
  {
   "cell_type": "markdown",
   "metadata": {
    "internals": {
     "slide_type": "subslide"
    },
    "slideshow": {
     "slide_type": "slide"
    }
   },
   "source": [
    "(2) Add two methods for the class **Coordinate**:\n",
    "    - getX(): return the attribute x\n",
    "    - getY(): return the attribute y."
   ]
  },
  {
   "cell_type": "code",
   "execution_count": 8,
   "metadata": {
    "collapsed": false,
    "internals": {},
    "slideshow": {
     "slide_type": "-"
    }
   },
   "outputs": [],
   "source": [
    "class Coordinate(object):\n",
    "    def __init__(self, x, y):\n",
    "        self.x = x\n",
    "        self.y = y\n",
    "    def getX(self):\n",
    "        return self.x\n",
    "    def getY(self):\n",
    "        return self.y"
   ]
  },
  {
   "cell_type": "markdown",
   "metadata": {
    "internals": {},
    "slideshow": {
     "slide_type": "-"
    }
   },
   "source": [
    "Here are some tests:"
   ]
  },
  {
   "cell_type": "code",
   "execution_count": 9,
   "metadata": {
    "collapsed": false,
    "internals": {},
    "slideshow": {
     "slide_type": "-"
    }
   },
   "outputs": [
    {
     "name": "stdout",
     "output_type": "stream",
     "text": [
      "2\n",
      "3\n"
     ]
    }
   ],
   "source": [
    "coor1 = Coordinate(2, 3)\n",
    "print coor1.getX() # 2\n",
    "print coor1.getY() # 3"
   ]
  },
  {
   "cell_type": "code",
   "execution_count": 10,
   "metadata": {
    "collapsed": false,
    "internals": {
     "slide_helper": "subslide_end"
    },
    "slide_helper": "slide_end",
    "slideshow": {
     "slide_type": "-"
    }
   },
   "outputs": [
    {
     "name": "stdout",
     "output_type": "stream",
     "text": [
      "-5\n",
      "15\n"
     ]
    }
   ],
   "source": [
    "coor1 = Coordinate(-5, 15)\n",
    "print coor1.getX() # -5\n",
    "print coor1.getY() # 15"
   ]
  },
  {
   "cell_type": "markdown",
   "metadata": {
    "internals": {
     "slide_type": "subslide"
    },
    "slideshow": {
     "slide_type": "slide"
    }
   },
   "source": [
    "(3) Add a `__str__` method for class **Coordinate**, so that when print a Coordinate object return its x value and y value."
   ]
  },
  {
   "cell_type": "code",
   "execution_count": 18,
   "metadata": {
    "collapsed": false,
    "internals": {},
    "slideshow": {
     "slide_type": "-"
    }
   },
   "outputs": [],
   "source": [
    "class Coordinate(object):\n",
    "    def __init__(self, x, y):\n",
    "        self.x = x\n",
    "        self.y = y\n",
    "    def getX(self):\n",
    "        return self.x\n",
    "    def getY(self):\n",
    "        return self.y\n",
    "    def __str__(self):\n",
    "        return \"<%s, %s>\" %(self.x, self.y)"
   ]
  },
  {
   "cell_type": "markdown",
   "metadata": {
    "internals": {},
    "slideshow": {
     "slide_type": "-"
    }
   },
   "source": [
    "Here are some tests:"
   ]
  },
  {
   "cell_type": "code",
   "execution_count": 19,
   "metadata": {
    "collapsed": false,
    "internals": {},
    "slideshow": {
     "slide_type": "-"
    }
   },
   "outputs": [
    {
     "name": "stdout",
     "output_type": "stream",
     "text": [
      "<2, 3>\n"
     ]
    }
   ],
   "source": [
    "coor1 = Coordinate(2, 3)\n",
    "print coor1 # <2,3>"
   ]
  },
  {
   "cell_type": "code",
   "execution_count": 20,
   "metadata": {
    "collapsed": false,
    "internals": {
     "slide_helper": "subslide_end"
    },
    "slide_helper": "slide_end",
    "slideshow": {
     "slide_type": "-"
    }
   },
   "outputs": [
    {
     "name": "stdout",
     "output_type": "stream",
     "text": [
      "<-5, 15>\n"
     ]
    }
   ],
   "source": [
    "coor2 = Coordinate(-5, 15)\n",
    "print coor2 # <-5,15>"
   ]
  },
  {
   "cell_type": "markdown",
   "metadata": {
    "internals": {
     "slide_type": "subslide"
    },
    "slideshow": {
     "slide_type": "slide"
    }
   },
   "source": [
    "(4) Add a `__eq__` method for class Coordinate. Given two Coordinate object, return `True` if their x and y are all equal, otherwise return `False`."
   ]
  },
  {
   "cell_type": "code",
   "execution_count": 23,
   "metadata": {
    "collapsed": false,
    "internals": {},
    "slideshow": {
     "slide_type": "-"
    }
   },
   "outputs": [],
   "source": [
    "class Coordinate(object):\n",
    "    def __init__(self, x, y):\n",
    "        self.x = x\n",
    "        self.y = y\n",
    "    def getX(self):\n",
    "        return self.x\n",
    "    def getY(self):\n",
    "        return self.y\n",
    "    def __str__(self):\n",
    "        return \"<%s, %s>\" %(self.x, self.y)\n",
    "    def __eq__(self, Coordinate):\n",
    "        return (self.x == Coordinate.x) & (self.y == Coordinate.y)"
   ]
  },
  {
   "cell_type": "markdown",
   "metadata": {
    "internals": {},
    "slideshow": {
     "slide_type": "-"
    }
   },
   "source": [
    "Here are some tests:"
   ]
  },
  {
   "cell_type": "code",
   "execution_count": 24,
   "metadata": {
    "collapsed": false,
    "internals": {},
    "slideshow": {
     "slide_type": "-"
    }
   },
   "outputs": [
    {
     "name": "stdout",
     "output_type": "stream",
     "text": [
      "False\n",
      "True\n",
      "False\n",
      "True\n",
      "False\n"
     ]
    }
   ],
   "source": [
    "coor1 = Coordinate(2, 3)\n",
    "coor2 = Coordinate(-5, 15)\n",
    "coor3 = Coordinate(2.0, 3)\n",
    "coor4 = Coordinate(-5, 15.0)\n",
    "print coor1.__eq__(coor2) # False\n",
    "print coor1.__eq__(coor3) # True\n",
    "print coor2.__eq__(coor3) # False\n",
    "print coor2.__eq__(coor4) # True\n",
    "print coor1.__eq__(coor4) # False"
   ]
  },
  {
   "cell_type": "markdown",
   "metadata": {
    "internals": {},
    "slideshow": {
     "slide_type": "-"
    }
   },
   "source": [
    "Given two Coordinate objects `obj1` and `obj2`, `obj1.__eq__(obj2)` is equivalent to `obj1 == obj2`. \n",
    "\n",
    "When print an object, the `__str__` method is called, when `==` is used to compare two objects, the `__eq__` method is called.\n",
    "\n",
    "So the following codes return exactly the same results."
   ]
  },
  {
   "cell_type": "code",
   "execution_count": 25,
   "metadata": {
    "collapsed": false,
    "internals": {
     "slide_helper": "subslide_end"
    },
    "slide_helper": "slide_end",
    "slideshow": {
     "slide_type": "-"
    }
   },
   "outputs": [
    {
     "name": "stdout",
     "output_type": "stream",
     "text": [
      "False\n",
      "True\n",
      "False\n",
      "True\n",
      "False\n"
     ]
    }
   ],
   "source": [
    "print coor1 == coor2 # False\n",
    "print coor1 == coor3 # True\n",
    "print coor2 == coor3 # False\n",
    "print coor2 == coor4 # True\n",
    "print coor1 == coor4 # False"
   ]
  },
  {
   "cell_type": "markdown",
   "metadata": {
    "internals": {
     "slide_type": "subslide"
    },
    "slideshow": {
     "slide_type": "slide"
    }
   },
   "source": [
    "(5) Add a `__add__` method for class Coordinate. Given two Coordinate object obj1 and obj2, `obj1.__add__(obj2)` return a new Coordinate object whose x is the sum of `obj1.x` and `obj2.x`, and y is the sum of `obj1.y` and `obj2.y`."
   ]
  },
  {
   "cell_type": "code",
   "execution_count": 26,
   "metadata": {
    "collapsed": false,
    "internals": {},
    "slideshow": {
     "slide_type": "-"
    }
   },
   "outputs": [],
   "source": [
    "class Coordinate(object):\n",
    "    def __init__(self, x, y):\n",
    "        self.x = x\n",
    "        self.y = y\n",
    "    def getX(self):\n",
    "        return self.x\n",
    "    def getY(self):\n",
    "        return self.y\n",
    "    def __str__(self):\n",
    "        return \"<%s, %s>\" %(self.x, self.y)\n",
    "    def __eq__(self, Coordinate):\n",
    "        return (self.x == Coordinate.x) & (self.y == Coordinate.y)\n",
    "    def __add__(self, cord2):\n",
    "        return Coordinate(self.x + cord2.x, self.y + cord2.y)"
   ]
  },
  {
   "cell_type": "markdown",
   "metadata": {
    "internals": {},
    "slideshow": {
     "slide_type": "-"
    }
   },
   "source": [
    "Here are some tests:"
   ]
  },
  {
   "cell_type": "code",
   "execution_count": 27,
   "metadata": {
    "collapsed": false,
    "internals": {},
    "slideshow": {
     "slide_type": "-"
    }
   },
   "outputs": [
    {
     "name": "stdout",
     "output_type": "stream",
     "text": [
      "<class '__main__.Coordinate'>\n",
      "True\n",
      "-3\n",
      "18\n",
      "<-3, 18>\n"
     ]
    }
   ],
   "source": [
    "coor1 = Coordinate(2, 3)\n",
    "coor2 = Coordinate(-5, 15)\n",
    "coor3 = coor1.__add__(coor2)\n",
    "print type(coor3) # Coordinate\n",
    "print isinstance(coor3, Coordinate) # True\n",
    "print coor3.x # -3\n",
    "print coor3.y # 18\n",
    "print coor3   # <-3,18>"
   ]
  },
  {
   "cell_type": "markdown",
   "metadata": {
    "internals": {},
    "slideshow": {
     "slide_type": "-"
    }
   },
   "source": [
    "When `+` is used between two objects, the `__add__` method is called. So `coor3 = coor1 + coor2` is equivalent to `coor3 = coor1.__add__(coor2)`"
   ]
  },
  {
   "cell_type": "code",
   "execution_count": 28,
   "metadata": {
    "collapsed": false,
    "internals": {
     "slide_helper": "subslide_end"
    },
    "slide_helper": "slide_end",
    "slideshow": {
     "slide_type": "-"
    }
   },
   "outputs": [
    {
     "name": "stdout",
     "output_type": "stream",
     "text": [
      "<class '__main__.Coordinate'>\n",
      "True\n",
      "-3\n",
      "18\n",
      "<-3, 18>\n"
     ]
    }
   ],
   "source": [
    "coor3 = coor1 + coor2\n",
    "print type(coor3) # Coordinate\n",
    "print isinstance(coor3, Coordinate) # True\n",
    "print coor3.x # -3\n",
    "print coor3.y # 18\n",
    "print coor3   # <-3,18>"
   ]
  },
  {
   "cell_type": "markdown",
   "metadata": {
    "internals": {
     "slide_helper": "subslide_end",
     "slide_type": "subslide"
    },
    "slide_helper": "slide_end",
    "slideshow": {
     "slide_type": "slide"
    }
   },
   "source": [
    "# Part 2: File & Script"
   ]
  },
  {
   "cell_type": "markdown",
   "metadata": {
    "internals": {
     "slide_type": "subslide"
    },
    "slideshow": {
     "slide_type": "slide"
    }
   },
   "source": [
    "(1) Write the following codes into a file named 'add.py' by using the function **open**."
   ]
  },
  {
   "cell_type": "code",
   "execution_count": null,
   "metadata": {
    "collapsed": false,
    "internals": {},
    "slideshow": {
     "slide_type": "-"
    }
   },
   "outputs": [],
   "source": [
    "from sys import argv\n",
    "script, num1, num2 = argv\n",
    "print float(num1) + float(num2)"
   ]
  },
  {
   "cell_type": "code",
   "execution_count": 29,
   "metadata": {
    "collapsed": false,
    "internals": {},
    "slideshow": {
     "slide_type": "-"
    }
   },
   "outputs": [],
   "source": [
    "code = '''\n",
    "from sys import argv\n",
    "script, num1, num2 = argv\n",
    "print float(num1) + float(num2)\n",
    "'''\n",
    "myFile = 'add.py'\n",
    "f = open(myFile, 'w')\n",
    "f.write(code)\n",
    "f.close()"
   ]
  },
  {
   "cell_type": "markdown",
   "metadata": {
    "internals": {},
    "slideshow": {
     "slide_type": "-"
    }
   },
   "source": [
    "After writing your codes, you could run the following command and get the corresponding results.  Make sure the python file is save in the same directory where this ipython notebook is saved.  And also check when you commit, do NOT include your `add.py` file (do not `git add` it)."
   ]
  },
  {
   "cell_type": "code",
   "execution_count": 30,
   "metadata": {
    "collapsed": false,
    "internals": {
     "slide_helper": "subslide_end"
    },
    "slide_helper": "slide_end",
    "slideshow": {
     "slide_type": "-"
    }
   },
   "outputs": [
    {
     "name": "stdout",
     "output_type": "stream",
     "text": [
      "3.0\n",
      "30.0\n",
      "37.0\n",
      "37.0\n",
      "30.0\n",
      "3.0\n"
     ]
    }
   ],
   "source": [
    "!python add.py 1 2 # 3.0\n",
    "!python add.py 10 20 # 30.0\n",
    "!python add.py 15 22 # 37.0\n",
    "!python add.py 22 15 # 37.0\n",
    "!python add.py 20 10 # 30.0\n",
    "!python add.py 2 1 # 3.0"
   ]
  },
  {
   "cell_type": "markdown",
   "metadata": {
    "internals": {
     "slide_type": "subslide"
    },
    "slideshow": {
     "slide_type": "slide"
    }
   },
   "source": [
    "(2) Write a script named 'calculator.py' which has two arguments.\n",
    "    - The second argument is an expression like '1+1'. \n",
    "    - The expression consist of two numbers and an operator(+, -, *, /) between the numbers.\n",
    "    - This script should return the result of the expression.\n",
    "\n",
    "Make sure the python file is save in the same directory, where this ipython notebook saved. And also check when you commit, do NOT include your `calculator.py` file (do not `git add` it).  Instead, paste your code in the cell below."
   ]
  },
  {
   "cell_type": "code",
   "execution_count": 58,
   "metadata": {
    "collapsed": false,
    "internals": {},
    "slideshow": {
     "slide_type": "-"
    }
   },
   "outputs": [],
   "source": [
    "code = '''\n",
    "from sys import argv\n",
    "import re\n",
    "script, operation = argv\n",
    "\n",
    "if operation.count('+') > 0:\n",
    "    nums = operation.split('+')\n",
    "    print float(nums[0]) + float(nums[1])\n",
    "elif operation.count('-') > 0:\n",
    "    nums = operation.split('-')\n",
    "    print float(nums[0]) - float(nums[1])\n",
    "elif operation.count('*') > 0:\n",
    "    nums = operation.split('*')\n",
    "    print float(nums[0]) * float(nums[1])\n",
    "elif operation.count('/') > 0:\n",
    "    nums = operation.split('/')\n",
    "    print float(nums[0]) / float(nums[1])\n",
    "\n",
    "\n",
    "'''\n",
    "\n",
    "myFile = 'calculator.py'\n",
    "f = open(myFile, 'w')\n",
    "f.write(code)\n",
    "f.close()"
   ]
  },
  {
   "cell_type": "markdown",
   "metadata": {
    "internals": {},
    "slideshow": {
     "slide_type": "-"
    }
   },
   "source": [
    "Here are some tests:"
   ]
  },
  {
   "cell_type": "code",
   "execution_count": 60,
   "metadata": {
    "collapsed": false,
    "internals": {
     "slide_helper": "subslide_end"
    },
    "slide_helper": "slide_end",
    "slideshow": {
     "slide_type": "-"
    }
   },
   "outputs": [
    {
     "name": "stdout",
     "output_type": "stream",
     "text": [
      "3.0\n",
      "30.0\n",
      "-7.0\n",
      "7.0\n",
      "2.0\n",
      "2.0\n"
     ]
    }
   ],
   "source": [
    "!python calculator.py 1+2 # 3.0\n",
    "!python calculator.py 10+20 # 30.0\n",
    "!python calculator.py 15-22 # -7.0\n",
    "!python calculator.py 22-15 # 7.0\n",
    "!python calculator.py 20/10 # 2.0\n",
    "!python calculator.py 2*1   # 2.0"
   ]
  },
  {
   "cell_type": "markdown",
   "metadata": {},
   "source": [
    "# Part 3: String Processing"
   ]
  },
  {
   "cell_type": "markdown",
   "metadata": {},
   "source": [
    "(1) Revisit:  Write a function **countString** with two arguments *raw_string* and *string_to_count*. Your function should return the number of times of *string_to_count* occurs in the the *raw_string* argument. In addition, Your function should be case insensitive in this time. \n",
    "\n",
    "[optional hints] [count](https://docs.python.org/2/library/string.html#string.count), [split](https://docs.python.org/2/library/string.html#string.split) method or [find](https://docs.python.org/2/library/string.html#string.find) method might be useful.\n",
    "\n",
    "For example, *countString('welcome to nyc(NYC) data science academy!', 'nyc')* should return 2."
   ]
  },
  {
   "cell_type": "code",
   "execution_count": 67,
   "metadata": {
    "collapsed": true
   },
   "outputs": [],
   "source": [
    "def countString(raw, cnt):\n",
    "    raw = raw.lower()\n",
    "    cnt = cnt.lower()\n",
    "    return raw.count(cnt)"
   ]
  },
  {
   "cell_type": "code",
   "execution_count": 68,
   "metadata": {
    "collapsed": false
   },
   "outputs": [
    {
     "data": {
      "text/plain": [
       "1"
      ]
     },
     "execution_count": 68,
     "metadata": {},
     "output_type": "execute_result"
    }
   ],
   "source": [
    "countString('Welcome to nyc DATA SCIENCE ACADEMY!', 'NYC') # 1"
   ]
  },
  {
   "cell_type": "code",
   "execution_count": 69,
   "metadata": {
    "collapsed": false
   },
   "outputs": [
    {
     "data": {
      "text/plain": [
       "2"
      ]
     },
     "execution_count": 69,
     "metadata": {},
     "output_type": "execute_result"
    }
   ],
   "source": [
    "countString('Welcome to nyc(NYC) data science academy!', 'nyc')# 2"
   ]
  },
  {
   "cell_type": "code",
   "execution_count": 70,
   "metadata": {
    "collapsed": false
   },
   "outputs": [
    {
     "data": {
      "text/plain": [
       "42"
      ]
     },
     "execution_count": 70,
     "metadata": {},
     "output_type": "execute_result"
    }
   ],
   "source": [
    "countString('welcome to nyc(NYC) data science academy!', '') # # 41 and 42 are fine.  The question tests the boundary condition for your code"
   ]
  },
  {
   "cell_type": "markdown",
   "metadata": {},
   "source": [
    "(2) Write a function **removeDuplicates** with an argument *raw_string*.  Your function should return a new string with the original order of letters but all duplicated letters removed.\n",
    "\n",
    "For example, *removeDuplicates('welcome to NYC Data Science Academy')* should return 'welcom tNYCDaSinAdy'."
   ]
  },
  {
   "cell_type": "code",
   "execution_count": 77,
   "metadata": {
    "collapsed": false
   },
   "outputs": [],
   "source": [
    "def removeDuplicates(raw_string):\n",
    "    out = ''\n",
    "    for char in raw_string:\n",
    "        if not (char in out):\n",
    "            out += char\n",
    "    return out"
   ]
  },
  {
   "cell_type": "code",
   "execution_count": 78,
   "metadata": {
    "collapsed": false
   },
   "outputs": [
    {
     "data": {
      "text/plain": [
       "'welcom tNYCDaSinAdy'"
      ]
     },
     "execution_count": 78,
     "metadata": {},
     "output_type": "execute_result"
    }
   ],
   "source": [
    "removeDuplicates('welcome to NYC Data Science Academy') # 'welcom tNYCDaSinAdy'"
   ]
  },
  {
   "cell_type": "markdown",
   "metadata": {},
   "source": [
    "(3) [Leetcode: Reverse Words in a String](https://leetcode.com/problems/reverse-words-in-a-string/)\n",
    "\n",
    "Write a function reverseString with an argument *raw_string*.  Your function should return a new string, reverse the *raw_string* word by word.\n",
    "\n",
    "For example *reverseString(\"welcome to NYC Data Science Academy\")* should return \"Academy Science Data NYC to welcome\"."
   ]
  },
  {
   "cell_type": "code",
   "execution_count": 90,
   "metadata": {
    "collapsed": false
   },
   "outputs": [],
   "source": [
    "def reverseString(raw_string):\n",
    "    strsplit = raw_string.split(' ')\n",
    "    out = ''\n",
    "    for i in range(len(strsplit)):\n",
    "        out += strsplit[len(strsplit) - i - 1] + ' '\n",
    "        \n",
    "    return out"
   ]
  },
  {
   "cell_type": "code",
   "execution_count": 91,
   "metadata": {
    "collapsed": false
   },
   "outputs": [
    {
     "data": {
      "text/plain": [
       "'Academy Science Data NYC to welcome '"
      ]
     },
     "execution_count": 91,
     "metadata": {},
     "output_type": "execute_result"
    }
   ],
   "source": [
    "reverseString(\"welcome to NYC Data Science Academy\") # \"Academy Science Data NYC to welcome\"."
   ]
  },
  {
   "cell_type": "code",
   "execution_count": null,
   "metadata": {
    "collapsed": true
   },
   "outputs": [],
   "source": []
  }
 ],
 "metadata": {
  "kernelspec": {
   "display_name": "Python 2",
   "language": "python",
   "name": "python2"
  },
  "language_info": {
   "codemirror_mode": {
    "name": "ipython",
    "version": 2
   },
   "file_extension": ".py",
   "mimetype": "text/x-python",
   "name": "python",
   "nbconvert_exporter": "python",
   "pygments_lexer": "ipython2",
   "version": "2.7.10"
  }
 },
 "nbformat": 4,
 "nbformat_minor": 0
}
