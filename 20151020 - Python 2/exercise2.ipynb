{
 "cells": [
  {
   "cell_type": "markdown",
   "metadata": {},
   "source": [
    "**Save your ipython notebook with your name and push to bootcamp003_student**"
   ]
  },
  {
   "cell_type": "markdown",
   "metadata": {
    "internals": {
     "slide_helper": "subslide_end",
     "slide_type": "subslide"
    },
    "slide_helper": "slide_end",
    "slideshow": {
     "slide_type": "slide"
    }
   },
   "source": [
    "# Part 1: Class"
   ]
  },
  {
   "cell_type": "markdown",
   "metadata": {
    "internals": {
     "slide_type": "subslide"
    },
    "slideshow": {
     "slide_type": "slide"
    }
   },
   "source": [
    "(1) Define a new class named **Coordinate**, which is used to represent a  2D coordinate system. Initialize two attributes *x* and *y* when create a object."
   ]
  },
  {
   "cell_type": "code",
   "execution_count": null,
   "metadata": {
    "collapsed": false,
    "internals": {},
    "slideshow": {
     "slide_type": "-"
    }
   },
   "outputs": [],
   "source": [
    "### write your code here"
   ]
  },
  {
   "cell_type": "markdown",
   "metadata": {
    "internals": {},
    "slideshow": {
     "slide_type": "-"
    }
   },
   "source": [
    "Here are some tests:"
   ]
  },
  {
   "cell_type": "code",
   "execution_count": null,
   "metadata": {
    "collapsed": false,
    "internals": {},
    "slideshow": {
     "slide_type": "-"
    }
   },
   "outputs": [],
   "source": [
    "coor1 = Coordinate(2, 3)\n",
    "print coor1.x # 2\n",
    "print coor1.y # 3"
   ]
  },
  {
   "cell_type": "code",
   "execution_count": null,
   "metadata": {
    "collapsed": false,
    "internals": {
     "slide_helper": "subslide_end"
    },
    "slide_helper": "slide_end",
    "slideshow": {
     "slide_type": "-"
    }
   },
   "outputs": [],
   "source": [
    "coor1 = Coordinate(-5, 15)\n",
    "print coor1.x # -5\n",
    "print coor1.y # 15"
   ]
  },
  {
   "cell_type": "markdown",
   "metadata": {
    "internals": {
     "slide_type": "subslide"
    },
    "slideshow": {
     "slide_type": "slide"
    }
   },
   "source": [
    "(2) Add two methods for the class **Coordinate**:\n",
    "    - getX(): return the attribute x\n",
    "    - getY(): return the attribute y."
   ]
  },
  {
   "cell_type": "code",
   "execution_count": null,
   "metadata": {
    "collapsed": false,
    "internals": {},
    "slideshow": {
     "slide_type": "-"
    }
   },
   "outputs": [],
   "source": [
    "### Copy the previous code and change it here"
   ]
  },
  {
   "cell_type": "markdown",
   "metadata": {
    "internals": {},
    "slideshow": {
     "slide_type": "-"
    }
   },
   "source": [
    "Here are some tests:"
   ]
  },
  {
   "cell_type": "code",
   "execution_count": null,
   "metadata": {
    "collapsed": false,
    "internals": {},
    "slideshow": {
     "slide_type": "-"
    }
   },
   "outputs": [],
   "source": [
    "coor1 = Coordinate(2, 3)\n",
    "print coor1.getX() # 2\n",
    "print coor1.getY() # 3"
   ]
  },
  {
   "cell_type": "code",
   "execution_count": null,
   "metadata": {
    "collapsed": false,
    "internals": {
     "slide_helper": "subslide_end"
    },
    "slide_helper": "slide_end",
    "slideshow": {
     "slide_type": "-"
    }
   },
   "outputs": [],
   "source": [
    "coor1 = Coordinate(-5, 15)\n",
    "print coor1.getX() # -5\n",
    "print coor1.getY() # 15"
   ]
  },
  {
   "cell_type": "markdown",
   "metadata": {
    "internals": {
     "slide_type": "subslide"
    },
    "slideshow": {
     "slide_type": "slide"
    }
   },
   "source": [
    "(3) Add a `__str__` method for class **Coordinate**, so that when print a Coordinate object return its x value and y value."
   ]
  },
  {
   "cell_type": "code",
   "execution_count": null,
   "metadata": {
    "collapsed": false,
    "internals": {},
    "slideshow": {
     "slide_type": "-"
    }
   },
   "outputs": [],
   "source": [
    "### Copy the previous code and change it here"
   ]
  },
  {
   "cell_type": "markdown",
   "metadata": {
    "internals": {},
    "slideshow": {
     "slide_type": "-"
    }
   },
   "source": [
    "Here are some tests:"
   ]
  },
  {
   "cell_type": "code",
   "execution_count": null,
   "metadata": {
    "collapsed": false,
    "internals": {},
    "slideshow": {
     "slide_type": "-"
    }
   },
   "outputs": [],
   "source": [
    "coor1 = Coordinate(2, 3)\n",
    "print coor1 # <2,3>"
   ]
  },
  {
   "cell_type": "code",
   "execution_count": null,
   "metadata": {
    "collapsed": false,
    "internals": {
     "slide_helper": "subslide_end"
    },
    "slide_helper": "slide_end",
    "slideshow": {
     "slide_type": "-"
    }
   },
   "outputs": [],
   "source": [
    "coor2 = Coordinate(-5, 15)\n",
    "print coor2 # <-5,15>"
   ]
  },
  {
   "cell_type": "markdown",
   "metadata": {
    "internals": {
     "slide_type": "subslide"
    },
    "slideshow": {
     "slide_type": "slide"
    }
   },
   "source": [
    "(4) Add a `__eq__` method for class Coordinate. Given two Coordinate object, return `True` if their x and y are all equal, otherwise return `False`."
   ]
  },
  {
   "cell_type": "code",
   "execution_count": null,
   "metadata": {
    "collapsed": false,
    "internals": {},
    "slideshow": {
     "slide_type": "-"
    }
   },
   "outputs": [],
   "source": [
    "### Copy the previous code and change it here"
   ]
  },
  {
   "cell_type": "markdown",
   "metadata": {
    "internals": {},
    "slideshow": {
     "slide_type": "-"
    }
   },
   "source": [
    "Here are some tests:"
   ]
  },
  {
   "cell_type": "code",
   "execution_count": null,
   "metadata": {
    "collapsed": false,
    "internals": {},
    "slideshow": {
     "slide_type": "-"
    }
   },
   "outputs": [],
   "source": [
    "coor1 = Coordinate(2, 3)\n",
    "coor2 = Coordinate(-5, 15)\n",
    "coor3 = Coordinate(2.0, 3)\n",
    "coor4 = Coordinate(-5, 15.0)\n",
    "print coor1.__eq__(coor2) # False\n",
    "print coor1.__eq__(coor3) # True\n",
    "print coor2.__eq__(coor3) # False\n",
    "print coor2.__eq__(coor4) # True\n",
    "print coor1.__eq__(coor4) # False"
   ]
  },
  {
   "cell_type": "markdown",
   "metadata": {
    "internals": {},
    "slideshow": {
     "slide_type": "-"
    }
   },
   "source": [
    "Given two Coordinate objects `obj1` and `obj2`, `obj1.__eq__(obj2)` is equivalent to `obj1 == obj2`. \n",
    "\n",
    "When print an object, the `__str__` method is called, when `==` is used to compare two objects, the `__eq__` method is called.\n",
    "\n",
    "So the following codes return exactly the same results."
   ]
  },
  {
   "cell_type": "code",
   "execution_count": null,
   "metadata": {
    "collapsed": false,
    "internals": {
     "slide_helper": "subslide_end"
    },
    "slide_helper": "slide_end",
    "slideshow": {
     "slide_type": "-"
    }
   },
   "outputs": [],
   "source": [
    "print coor1 == coor2 # False\n",
    "print coor1 == coor3 # True\n",
    "print coor2 == coor3 # False\n",
    "print coor2 == coor4 # True\n",
    "print coor1 == coor4 # False"
   ]
  },
  {
   "cell_type": "markdown",
   "metadata": {
    "internals": {
     "slide_type": "subslide"
    },
    "slideshow": {
     "slide_type": "slide"
    }
   },
   "source": [
    "(5) Add a `__add__` method for class Coordinate. Given two Coordinate object obj1 and obj2, `obj1.__add__(obj2)` return a new Coordinate object whose x is the sum of `obj1.x` and `obj2.x`, and y is the sum of `obj1.y` and `obj2.y`."
   ]
  },
  {
   "cell_type": "code",
   "execution_count": null,
   "metadata": {
    "collapsed": false,
    "internals": {},
    "slideshow": {
     "slide_type": "-"
    }
   },
   "outputs": [],
   "source": [
    "### Copy the previous code and change it here"
   ]
  },
  {
   "cell_type": "markdown",
   "metadata": {
    "internals": {},
    "slideshow": {
     "slide_type": "-"
    }
   },
   "source": [
    "Here are some tests:"
   ]
  },
  {
   "cell_type": "code",
   "execution_count": null,
   "metadata": {
    "collapsed": false,
    "internals": {},
    "slideshow": {
     "slide_type": "-"
    }
   },
   "outputs": [],
   "source": [
    "coor1 = Coordinate(2, 3)\n",
    "coor2 = Coordinate(-5, 15)\n",
    "coor3 = coor1.__add__(coor2)\n",
    "print type(coor3) # Coordinate\n",
    "print isinstance(coor3, Coordinate) # True\n",
    "print coor3.x # -3\n",
    "print coor3.y # 18\n",
    "print coor3   # <-3,18>"
   ]
  },
  {
   "cell_type": "markdown",
   "metadata": {
    "internals": {},
    "slideshow": {
     "slide_type": "-"
    }
   },
   "source": [
    "When `+` is used between two objects, the `__add__` method is called. So `coor3 = coor1 + coor2` is equivalent to `coor3 = coor1.__add__(coor2)`"
   ]
  },
  {
   "cell_type": "code",
   "execution_count": null,
   "metadata": {
    "collapsed": false,
    "internals": {
     "slide_helper": "subslide_end"
    },
    "slide_helper": "slide_end",
    "slideshow": {
     "slide_type": "-"
    }
   },
   "outputs": [],
   "source": [
    "coor3 = coor1 + coor2\n",
    "print type(coor3) # Coordinate\n",
    "print isinstance(coor3, Coordinate) # True\n",
    "print coor3.x # -3\n",
    "print coor3.y # 18\n",
    "print coor3   # <-3,18>"
   ]
  },
  {
   "cell_type": "markdown",
   "metadata": {
    "internals": {
     "slide_helper": "subslide_end",
     "slide_type": "subslide"
    },
    "slide_helper": "slide_end",
    "slideshow": {
     "slide_type": "slide"
    }
   },
   "source": [
    "# Part 2: File & Script"
   ]
  },
  {
   "cell_type": "markdown",
   "metadata": {
    "internals": {
     "slide_type": "subslide"
    },
    "slideshow": {
     "slide_type": "slide"
    }
   },
   "source": [
    "(1) Write the following codes into a file named 'add.py' by using the function **open**."
   ]
  },
  {
   "cell_type": "code",
   "execution_count": null,
   "metadata": {
    "collapsed": false,
    "internals": {},
    "slideshow": {
     "slide_type": "-"
    }
   },
   "outputs": [],
   "source": [
    "from sys import argv\n",
    "script, num1, num2 = argv\n",
    "print float(num1) + float(num2)"
   ]
  },
  {
   "cell_type": "code",
   "execution_count": null,
   "metadata": {
    "collapsed": false,
    "internals": {},
    "slideshow": {
     "slide_type": "-"
    }
   },
   "outputs": [],
   "source": [
    "### write your codes here"
   ]
  },
  {
   "cell_type": "markdown",
   "metadata": {
    "internals": {},
    "slideshow": {
     "slide_type": "-"
    }
   },
   "source": [
    "After writing your codes, you could run the following command and get the corresponding results.  Make sure the python file is save in the same directory where this ipython notebook is saved.  And also check when you commit, do NOT include your `add.py` file (do not `git add` it)."
   ]
  },
  {
   "cell_type": "code",
   "execution_count": null,
   "metadata": {
    "collapsed": false,
    "internals": {
     "slide_helper": "subslide_end"
    },
    "slide_helper": "slide_end",
    "slideshow": {
     "slide_type": "-"
    }
   },
   "outputs": [],
   "source": [
    "!python add.py 1 2 # 3.0\n",
    "!python add.py 10 20 # 30.0\n",
    "!python add.py 15 22 # 37.0\n",
    "!python add.py 22 15 # 37.0\n",
    "!python add.py 20 10 # 30.0\n",
    "!python add.py 2 1 # 3.0"
   ]
  },
  {
   "cell_type": "markdown",
   "metadata": {
    "internals": {
     "slide_type": "subslide"
    },
    "slideshow": {
     "slide_type": "slide"
    }
   },
   "source": [
    "(2) Write a script named 'calculator.py' which has two arguments.\n",
    "    - The second argument is an expression like '1+1'. \n",
    "    - The expression consist of two numbers and an operator(+, -, *, /) between the numbers.\n",
    "    - This script should return the result of the expression.\n",
    "\n",
    "Make sure the python file is save in the same directory, where this ipython notebook saved. And also check when you commit, do NOT include your `calculator.py` file (do not `git add` it).  Instead, paste your code in the cell below."
   ]
  },
  {
   "cell_type": "code",
   "execution_count": null,
   "metadata": {
    "collapsed": false,
    "internals": {},
    "slideshow": {
     "slide_type": "-"
    }
   },
   "outputs": [],
   "source": [
    "### write your codes here"
   ]
  },
  {
   "cell_type": "markdown",
   "metadata": {
    "internals": {},
    "slideshow": {
     "slide_type": "-"
    }
   },
   "source": [
    "Here are some tests:"
   ]
  },
  {
   "cell_type": "code",
   "execution_count": null,
   "metadata": {
    "collapsed": false,
    "internals": {
     "slide_helper": "subslide_end"
    },
    "slide_helper": "slide_end",
    "slideshow": {
     "slide_type": "-"
    }
   },
   "outputs": [],
   "source": [
    "!python calculator.py 1+2 # 3.0\n",
    "!python calculator.py 10+20 # 30.0\n",
    "!python calculator.py 15-22 # -7.0\n",
    "!python calculator.py 22-15 # 7.0\n",
    "!python calculator.py 20/10 # 2.0\n",
    "!python calculator.py 2*1   # 2.0"
   ]
  },
  {
   "cell_type": "markdown",
   "metadata": {},
   "source": [
    "# Part 3: String Processing"
   ]
  },
  {
   "cell_type": "markdown",
   "metadata": {},
   "source": [
    "(1) Revisit:  Write a function **countString** with two arguments *raw_string* and *string_to_count*. Your function should return the number of times of *string_to_count* occurs in the the *raw_string* argument. In addition, Your function should be case insensitive in this time. \n",
    "\n",
    "[optional hints] [count](https://docs.python.org/2/library/string.html#string.count), [split](https://docs.python.org/2/library/string.html#string.split) method or [find](https://docs.python.org/2/library/string.html#string.find) method might be useful.\n",
    "\n",
    "For example, *countString('welcome to nyc(NYC) data science academy!', 'nyc')* should return 2."
   ]
  },
  {
   "cell_type": "code",
   "execution_count": null,
   "metadata": {
    "collapsed": true
   },
   "outputs": [],
   "source": [
    "### write your function here"
   ]
  },
  {
   "cell_type": "code",
   "execution_count": null,
   "metadata": {
    "collapsed": true
   },
   "outputs": [],
   "source": [
    "countString('Welcome to nyc DATA SCIENCE ACADEMY!', 'NYC') # 1"
   ]
  },
  {
   "cell_type": "code",
   "execution_count": null,
   "metadata": {
    "collapsed": true
   },
   "outputs": [],
   "source": [
    "countString('Welcome to nyc(NYC) data science academy!', 'nyc')# 2"
   ]
  },
  {
   "cell_type": "code",
   "execution_count": null,
   "metadata": {
    "collapsed": true
   },
   "outputs": [],
   "source": [
    "countString('welcome to nyc(NYC) data science academy!', '') # # 41 and 42 are fine.  The question tests the boundary condition for your code"
   ]
  },
  {
   "cell_type": "markdown",
   "metadata": {},
   "source": [
    "(2) Write a function **removeDuplicates** with an argument *raw_string*.  Your function should return a new string with the original order of letters but all duplicated letters removed.\n",
    "\n",
    "For example, *removeDuplicates('welcome to NYC Data Science Academy')* should return 'welcom tNYCDaSinAdy'."
   ]
  },
  {
   "cell_type": "code",
   "execution_count": null,
   "metadata": {
    "collapsed": true
   },
   "outputs": [],
   "source": [
    "### write your function here"
   ]
  },
  {
   "cell_type": "code",
   "execution_count": null,
   "metadata": {
    "collapsed": true
   },
   "outputs": [],
   "source": [
    "removeDuplicates('welcome to NYC Data Science Academy') # 'welcom tNYCDaSinAdy'"
   ]
  },
  {
   "cell_type": "markdown",
   "metadata": {},
   "source": [
    "(3) [Leetcode: Reverse Words in a String](https://leetcode.com/problems/reverse-words-in-a-string/)\n",
    "\n",
    "Write a function reverseString with an argument *raw_string*.  Your function should return a new string, reverse the *raw_string* word by word.\n",
    "\n",
    "For example *reverseString(\"welcome to NYC Data Science Academy\")* should return \"Academy Science Data NYC to welcome\"."
   ]
  },
  {
   "cell_type": "code",
   "execution_count": null,
   "metadata": {
    "collapsed": true
   },
   "outputs": [],
   "source": [
    "### write your function here"
   ]
  },
  {
   "cell_type": "code",
   "execution_count": null,
   "metadata": {
    "collapsed": true
   },
   "outputs": [],
   "source": [
    "reverseString(\"welcome to NYC Data Science Academy\") # \"Academy Science Data NYC to welcome\"."
   ]
  }
 ],
 "metadata": {
  "kernelspec": {
   "display_name": "Python 2",
   "language": "python",
   "name": "python2"
  },
  "language_info": {
   "codemirror_mode": {
    "name": "ipython",
    "version": 2
   },
   "file_extension": ".py",
   "mimetype": "text/x-python",
   "name": "python",
   "nbconvert_exporter": "python",
   "pygments_lexer": "ipython2",
   "version": "2.7.10"
  }
 },
 "nbformat": 4,
 "nbformat_minor": 0
}
