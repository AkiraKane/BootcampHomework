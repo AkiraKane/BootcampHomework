{
 "cells": [
  {
   "cell_type": "markdown",
   "metadata": {},
   "source": [
    "**Save your ipython notebook with your name and push to bootcamp003_student**"
   ]
  },
  {
   "cell_type": "markdown",
   "metadata": {},
   "source": [
    "## Regular Expression"
   ]
  },
  {
   "cell_type": "markdown",
   "metadata": {
    "internals": {
     "slide_type": "subslide"
    },
    "slideshow": {
     "slide_type": "slide"
    }
   },
   "source": [
    "(1) Write a function **matchAll(pattern, list)**, return True if the pattern matches all the strings in the list."
   ]
  },
  {
   "cell_type": "code",
   "execution_count": 129,
   "metadata": {
    "collapsed": false,
    "internals": {},
    "slideshow": {
     "slide_type": "-"
    }
   },
   "outputs": [],
   "source": [
    "import re\n",
    "def matchAll(str, list):\n",
    "    test = True\n",
    "    for i in range(len(list)):\n",
    "        test = test & (re.search(str, list[i]) != None)\n",
    "    return test"
   ]
  },
  {
   "cell_type": "markdown",
   "metadata": {
    "internals": {},
    "slideshow": {
     "slide_type": "-"
    }
   },
   "source": [
    "Here are some tests:"
   ]
  },
  {
   "cell_type": "code",
   "execution_count": 130,
   "metadata": {
    "collapsed": false,
    "internals": {
     "slide_helper": "subslide_end"
    },
    "slide_helper": "slide_end",
    "slideshow": {
     "slide_type": "-"
    }
   },
   "outputs": [
    {
     "name": "stdout",
     "output_type": "stream",
     "text": [
      "True\n",
      "False\n",
      "True\n",
      "True\n",
      "False\n"
     ]
    }
   ],
   "source": [
    "print matchAll('a', ['a', 'ab', 'abc']) # True\n",
    "print matchAll('a', ['a', 'ab', 'bc'])  # False\n",
    "print matchAll('(ab)?', ['a', 'ab', 'abc'])  # True\n",
    "print matchAll('.', ['a', 'ab', 'abc'])      # True\n",
    "print matchAll('.{2,3}', ['a', 'ab', 'abc']) # False"
   ]
  },
  {
   "cell_type": "markdown",
   "metadata": {
    "internals": {
     "slide_type": "subslide"
    },
    "slideshow": {
     "slide_type": "slide"
    }
   },
   "source": [
    "(2) Write a function matchNone(pattern, list), return True if the pattern does not match any one of the strings in the list."
   ]
  },
  {
   "cell_type": "code",
   "execution_count": 131,
   "metadata": {
    "collapsed": false,
    "internals": {},
    "slideshow": {
     "slide_type": "-"
    }
   },
   "outputs": [],
   "source": [
    "import re\n",
    "def matchNone(str, list):\n",
    "    test = True\n",
    "    for i in range(len(list)):\n",
    "        test = test & (re.search(str, list[i]) == None)\n",
    "    return test"
   ]
  },
  {
   "cell_type": "markdown",
   "metadata": {
    "collapsed": false,
    "internals": {},
    "slideshow": {
     "slide_type": "-"
    }
   },
   "source": [
    "Here are some tests:"
   ]
  },
  {
   "cell_type": "code",
   "execution_count": 132,
   "metadata": {
    "collapsed": false,
    "internals": {
     "slide_helper": "subslide_end"
    },
    "slide_helper": "slide_end",
    "slideshow": {
     "slide_type": "-"
    }
   },
   "outputs": [
    {
     "name": "stdout",
     "output_type": "stream",
     "text": [
      "True\n",
      "False\n",
      "False\n",
      "False\n",
      "True\n"
     ]
    }
   ],
   "source": [
    "print matchNone('a', ['b', 'bb', 'bbb'])      # True\n",
    "print matchNone('a', ['b', 'ba', 'bab'])      # False\n",
    "print matchNone('(ab)?', ['a', 'ab', 'ac'])   # False\n",
    "print matchNone('a{2,}', ['a', 'aa', 'abc'])  # False\n",
    "print matchNone('a{2,3}', ['a', 'ab', 'abc']) # True"
   ]
  },
  {
   "cell_type": "markdown",
   "metadata": {
    "internals": {
     "slide_type": "subslide"
    },
    "slideshow": {
     "slide_type": "slide"
    }
   },
   "source": [
    "(3) Write a pattern to match the following words (open question, choose your approach):\n",
    "\n",
    "        a, an, absh, apple, adsorb, apple99"
   ]
  },
  {
   "cell_type": "code",
   "execution_count": 133,
   "metadata": {
    "collapsed": false,
    "internals": {
     "slide_helper": "subslide_end"
    },
    "slide_helper": "slide_end",
    "slideshow": {
     "slide_type": "-"
    }
   },
   "outputs": [
    {
     "data": {
      "text/plain": [
       "True"
      ]
     },
     "execution_count": 133,
     "metadata": {},
     "output_type": "execute_result"
    }
   ],
   "source": [
    "wordPattern = '^a'\n",
    "matchAll(wordPattern, ['a', 'an', 'absh', 'appale', 'adsorb', 'apple99']) # True"
   ]
  },
  {
   "cell_type": "markdown",
   "metadata": {
    "internals": {
     "slide_type": "subslide"
    },
    "slideshow": {
     "slide_type": "slide"
    }
   },
   "source": [
    "(4) Write a pattern that does not math the following words (open question, choose your approach):\n",
    "        \n",
    "        can, fan, dan, ran, pan"
   ]
  },
  {
   "cell_type": "code",
   "execution_count": 134,
   "metadata": {
    "collapsed": false,
    "internals": {
     "slide_helper": "subslide_end"
    },
    "slide_helper": "slide_end",
    "slideshow": {
     "slide_type": "-"
    }
   },
   "outputs": [
    {
     "data": {
      "text/plain": [
       "True"
      ]
     },
     "execution_count": 134,
     "metadata": {},
     "output_type": "execute_result"
    }
   ],
   "source": [
    "wordPattern = '[A-Z]'\n",
    "matchNone(wordPattern, ['can', 'fan', 'dan', 'ran', 'pan']) # True"
   ]
  },
  {
   "cell_type": "markdown",
   "metadata": {
    "internals": {
     "slide_type": "subslide"
    },
    "slideshow": {
     "slide_type": "slide"
    }
   },
   "source": [
    "(5) Write a regular expression that matches these three words (open question, choose your approach): \n",
    "\n",
    "        - can, fan, dan\n",
    "and does not match these three words: \n",
    "\n",
    "        - man, ran, pan"
   ]
  },
  {
   "cell_type": "code",
   "execution_count": 135,
   "metadata": {
    "collapsed": false,
    "internals": {
     "slide_helper": "subslide_end"
    },
    "slide_helper": "slide_end",
    "slideshow": {
     "slide_type": "-"
    }
   },
   "outputs": [
    {
     "name": "stdout",
     "output_type": "stream",
     "text": [
      "True\n",
      "True\n"
     ]
    }
   ],
   "source": [
    "wordPattern = '[cfd]'\n",
    "print matchAll(wordPattern, ['can', 'fan', 'dan']) # True\n",
    "print matchNone(wordPattern, ['man', 'ran', 'pan']) # True"
   ]
  },
  {
   "cell_type": "markdown",
   "metadata": {
    "internals": {
     "slide_type": "subslide"
    },
    "slideshow": {
     "slide_type": "slide"
    }
   },
   "source": [
    "(6) Write a regular expression that matches these five words  (open question, choose your approach):\n",
    "        - pit, spot, spate, slap two, respite\n",
    "    \n",
    "and does not match these four words:\n",
    "\n",
    "        - pt, Pot, peat, part\n",
    "\n",
    "This exercise comes from [http://regex.sketchengine.co.uk/](http://regex.sketchengine.co.uk/cgi/ex1.cgi) and you can find more exercises there."
   ]
  },
  {
   "cell_type": "code",
   "execution_count": 136,
   "metadata": {
    "collapsed": false,
    "internals": {
     "slide_helper": "subslide_end"
    },
    "slide_helper": "slide_end",
    "slideshow": {
     "slide_type": "-"
    }
   },
   "outputs": [
    {
     "name": "stdout",
     "output_type": "stream",
     "text": [
      "True\n",
      "True\n"
     ]
    }
   ],
   "source": [
    "wordPattern = 'p.t'\n",
    "print matchAll(wordPattern, ['pit', 'spot', 'spate', 'slap two', 'respite']) # True\n",
    "print matchNone(wordPattern, ['pt', 'Pot', 'peat', 'part']) # True"
   ]
  },
  {
   "cell_type": "markdown",
   "metadata": {
    "internals": {
     "slide_type": "subslide"
    },
    "slideshow": {
     "slide_type": "slide"
    }
   },
   "source": [
    "(7)**[optinal]**\n",
    "Write a regular expression that matches these five words:\n",
    "    - rap them, tapeth, apth, wrap/try, sap tray, 87ap9th, apothecary\n",
    "\n",
    "and does not match these four words:\n",
    "    - aleht, happy them, tarpth, Apt, peth, tarreth, ddapdg, apples, shape the"
   ]
  },
  {
   "cell_type": "code",
   "execution_count": 137,
   "metadata": {
    "collapsed": false,
    "internals": {
     "slide_helper": "subslide_end"
    },
    "slide_helper": "slide_end",
    "slideshow": {
     "slide_type": "-"
    }
   },
   "outputs": [
    {
     "name": "stdout",
     "output_type": "stream",
     "text": [
      "True\n",
      "True\n"
     ]
    }
   ],
   "source": [
    "wordPattern = '.*ap.?t'\n",
    "print matchAll(wordPattern, ['rap them', 'tapeth', 'apth', 'wrap/try', \\\n",
    "                             'sap tray', '87ap9th', 'apothecary']) # True\n",
    "print matchNone(wordPattern, ['aleht', 'happy them', 'tarpth', 'Apt', 'peth', \\\n",
    "                              'tarreth', 'ddapdg', 'apples', 'shape the']) # True"
   ]
  },
  {
   "cell_type": "markdown",
   "metadata": {
    "internals": {
     "slide_type": "subslide"
    },
    "slideshow": {
     "slide_type": "slide"
    }
   },
   "source": [
    "(8)**[optinal]** In this exercise, you need to handle a file 'record.txt', which is filled with chat records.\n",
    "\n",
    "The first 10 lines looks like this:"
   ]
  },
  {
   "cell_type": "code",
   "execution_count": 138,
   "metadata": {
    "collapsed": false,
    "internals": {},
    "slideshow": {
     "slide_type": "-"
    }
   },
   "outputs": [
    {
     "name": "stdout",
     "output_type": "stream",
     "text": [
      "Jack 17:26:46\r\n",
      "The slogan duplicates a bliss after the plastic accent.\r\n",
      "Michael 17:26:47\r\n",
      "A tidied successor enlightens the advertised contract.\r\n",
      "William 17:26:48\r\n",
      "The secondary freedom matures beneath your suitable tip.\r\n",
      "John 17:26:50\r\n",
      "A wonderful newcomer expires on top of a cryptic entrance.\r\n",
      "William 17:26:51\r\n",
      "A bastard degenerates before the chorus!\r\n"
     ]
    }
   ],
   "source": [
    "!head ./record.txt"
   ]
  },
  {
   "cell_type": "markdown",
   "metadata": {
    "internals": {
     "slide_helper": "subslide_end"
    },
    "slide_helper": "slide_end",
    "slideshow": {
     "slide_type": "-"
    }
   },
   "source": [
    "Each line is either a sentence or a people's name followed with the time. Your task is finding out :\n",
    "\n",
    "    - names of people appear in this chat record.\n",
    "    - how many messages each person sent, and sort them in descending order.\n",
    "    \n",
    "The result looks like:\n",
    "\n",
    "    [('Emily', 111), ('John', 91), ('Michael', 88), ('Jack', 82), ('Mary', 82), ('William', 81), ('Emma', 80), ('Elizabeth', 80), ('Daniel', 72), ('Jayden', 70)]"
   ]
  },
  {
   "cell_type": "code",
   "execution_count": 139,
   "metadata": {
    "collapsed": false
   },
   "outputs": [
    {
     "name": "stdout",
     "output_type": "stream",
     "text": [
      "[('Emily', 122), ('John', 99), ('Michael', 98), ('William', 91), ('Jack', 90), ('Elizabeth', 89), ('Emma', 87), ('Mary', 86), ('Jayden', 83), ('Daniel', 77)]\n"
     ]
    }
   ],
   "source": [
    "dict = {}\n",
    "\n",
    "f = open('record.txt','r')\n",
    "\n",
    "while True:\n",
    "    name = f.readline()\n",
    "    if not name: break\n",
    "    message = f.readline()\n",
    "\n",
    "    name = name.split(' ')\n",
    "    name = name[0]\n",
    "    \n",
    "    #print name + ': ' + message\n",
    "    \n",
    "    if name in dict:\n",
    "        dict[name] += 1\n",
    "    else:\n",
    "        dict[name] = 1\n",
    "\n",
    "dict = sorted(dict.items(), key=lambda x: (-x[1], x[0]))\n",
    "\n",
    "f.close()\n",
    "\n",
    "print dict\n",
    "\n",
    "#Numbers dont match the solution, but when checking the file I have it seems to be correct"
   ]
  },
  {
   "cell_type": "code",
   "execution_count": null,
   "metadata": {
    "collapsed": true
   },
   "outputs": [],
   "source": []
  }
 ],
 "metadata": {
  "kernelspec": {
   "display_name": "Python 2",
   "language": "python",
   "name": "python2"
  },
  "language_info": {
   "codemirror_mode": {
    "name": "ipython",
    "version": 2
   },
   "file_extension": ".py",
   "mimetype": "text/x-python",
   "name": "python",
   "nbconvert_exporter": "python",
   "pygments_lexer": "ipython2",
   "version": "2.7.10"
  }
 },
 "nbformat": 4,
 "nbformat_minor": 0
}
