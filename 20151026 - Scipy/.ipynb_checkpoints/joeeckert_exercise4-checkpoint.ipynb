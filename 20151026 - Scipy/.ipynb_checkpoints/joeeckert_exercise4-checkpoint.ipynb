{
 "cells": [
  {
   "cell_type": "markdown",
   "metadata": {},
   "source": [
    "** Save your ipython notebook with your name and push to bootcamp003_student**"
   ]
  },
  {
   "cell_type": "markdown",
   "metadata": {
    "internals": {
     "slide_helper": "subslide_end",
     "slide_type": "subslide"
    },
    "slide_helper": "slide_end",
    "slideshow": {
     "slide_type": "slide"
    }
   },
   "source": [
    "# Part1: Numpy"
   ]
  },
  {
   "cell_type": "markdown",
   "metadata": {
    "internals": {
     "slide_type": "subslide"
    },
    "slideshow": {
     "slide_type": "slide"
    }
   },
   "source": [
    "## Array Creation\n",
    "Construct the following arrays without listing all the elements. For example, you should use **np.ones(3)** to generate a array *array([1, 1, 1])* instead of **np.array([1, 1, 1])**."
   ]
  },
  {
   "cell_type": "markdown",
   "metadata": {
    "internals": {},
    "slideshow": {
     "slide_type": "-"
    }
   },
   "source": [
    "(1) Construct an array of **float** ranging from 0-10."
   ]
  },
  {
   "cell_type": "code",
   "execution_count": 1,
   "metadata": {
    "collapsed": false,
    "internals": {},
    "slideshow": {
     "slide_type": "-"
    }
   },
   "outputs": [
    {
     "data": {
      "text/plain": [
       "array([  0.,   1.,   2.,   3.,   4.,   5.,   6.,   7.,   8.,   9.,  10.])"
      ]
     },
     "execution_count": 1,
     "metadata": {},
     "output_type": "execute_result"
    }
   ],
   "source": [
    "import numpy as np\n",
    "np.arange(11, dtype=np.float)"
   ]
  },
  {
   "cell_type": "markdown",
   "metadata": {
    "internals": {},
    "slideshow": {
     "slide_type": "-"
    }
   },
   "source": [
    "(2) Create an array containing 7 evenly spaced numbers between 0 and 23."
   ]
  },
  {
   "cell_type": "code",
   "execution_count": 2,
   "metadata": {
    "collapsed": false,
    "internals": {},
    "slideshow": {
     "slide_type": "-"
    }
   },
   "outputs": [
    {
     "data": {
      "text/plain": [
       "array([  0.        ,   3.83333333,   7.66666667,  11.5       ,\n",
       "        15.33333333,  19.16666667,  23.        ])"
      ]
     },
     "execution_count": 2,
     "metadata": {},
     "output_type": "execute_result"
    }
   ],
   "source": [
    "np.linspace(0, 23, 7)"
   ]
  },
  {
   "cell_type": "markdown",
   "metadata": {
    "internals": {},
    "slideshow": {
     "slide_type": "-"
    }
   },
   "source": [
    "(3) Create a 3x3 matrix with values ranging from 0 to 8."
   ]
  },
  {
   "cell_type": "code",
   "execution_count": 3,
   "metadata": {
    "collapsed": false,
    "internals": {},
    "slideshow": {
     "slide_type": "-"
    }
   },
   "outputs": [
    {
     "data": {
      "text/plain": [
       "array([[0, 1, 2],\n",
       "       [3, 4, 5],\n",
       "       [6, 7, 8]])"
      ]
     },
     "execution_count": 3,
     "metadata": {},
     "output_type": "execute_result"
    }
   ],
   "source": [
    "np.arange(9).reshape(3,3)"
   ]
  },
  {
   "cell_type": "markdown",
   "metadata": {
    "internals": {},
    "slideshow": {
     "slide_type": "-"
    }
   },
   "source": [
    "(4) Create a 5x5 matrix with row values ranging from 0 to 4.\n",
    "\n",
    "[Option] Is the result a copy-by-reference of copy-by-value?  If you change one cell, will it change other cells?\n",
    "\n",
    "$$\\left[\n",
    "\\begin{array}{cc}\n",
    "0 & 1 & 2 & 3 & 4 \\\\\n",
    "0 & 1 & 2 & 3 & 4 \\\\\n",
    "0 & 1 & 2 & 3 & 4 \\\\\n",
    "0 & 1 & 2 & 3 & 4 \\\\\n",
    "0 & 1 & 2 & 3 & 4 \n",
    "\\end{array}\n",
    "\\right]$$"
   ]
  },
  {
   "cell_type": "code",
   "execution_count": 4,
   "metadata": {
    "collapsed": false,
    "internals": {
     "slide_helper": "subslide_end"
    },
    "slide_helper": "slide_end",
    "slideshow": {
     "slide_type": "-"
    }
   },
   "outputs": [
    {
     "data": {
      "text/plain": [
       "array([[ 0.,  1.,  2.,  3.,  4.],\n",
       "       [ 0.,  1.,  2.,  3.,  4.],\n",
       "       [ 0.,  1.,  2.,  3.,  4.],\n",
       "       [ 0.,  1.,  2.,  3.,  4.],\n",
       "       [ 0.,  1.,  2.,  3.,  4.]])"
      ]
     },
     "execution_count": 4,
     "metadata": {},
     "output_type": "execute_result"
    }
   ],
   "source": [
    "np.zeros((5,5))+np.arange(5)"
   ]
  },
  {
   "cell_type": "markdown",
   "metadata": {
    "internals": {
     "slide_type": "subslide"
    },
    "slideshow": {
     "slide_type": "slide"
    }
   },
   "source": [
    "(5) A magic square is a matrix all of whose row sums, column sums and the sums of the two diagonals are the same. (One diagonal of a matrix goes from the top left to the bottom right, the other diagonal goes from top right to bottom left.)\n",
    "\n",
    "Further more, a $n \\times n$ magic matrix is constructed by $(1, 2, 3 ... n^2)$. For example, here is a $3\\times 3$ magic array:\n",
    "$$\\left[\n",
    "\\begin{array}{cc}\n",
    "8 & 1 & 6 \\\\\n",
    "3 & 5 & 7 \\\\\n",
    "4 & 9 & 2\n",
    "\\end{array}\n",
    "\\right]$$\n",
    "\n",
    "Each number can only be used once.\n",
    "\n",
    "Write a function to check whether a matrix is a magic matrix. You should check these three properties:\n",
    "\n",
    "1. Is it a square matrix?\n",
    "2. Is it constructed by $(1, 2, 3, ... n^2)$?\n",
    "3. Are the sums of rows, columns and diags the same? (Hint: the function **np.diag** may be useful)\n"
   ]
  },
  {
   "cell_type": "code",
   "execution_count": 5,
   "metadata": {
    "collapsed": false,
    "internals": {},
    "slideshow": {
     "slide_type": "-"
    }
   },
   "outputs": [],
   "source": [
    "def isMagic(tstMtrx):\n",
    "    testMagic = True\n",
    "    sumTest = []\n",
    "    \n",
    "    if tstMtrx.shape[0] == tstMtrx.shape[1]:\n",
    "        #Matrix is square\n",
    "        \n",
    "        for i in range(tstMtrx.shape[0]):\n",
    "            sumTest = np.append(sumTest, np.sum(tstMtrx[i, :]))\n",
    "            sumTest = np.append(sumTest, np.sum(tstMtrx[:, i]))\n",
    "            \n",
    "        sumTest = np.append(sumTest, np.trace(tstMtrx))\n",
    "        sumTest = np.append(sumTest, np.trace(np.fliplr(tstMtrx)))\n",
    "        \n",
    "        arrTest = np.repeat(sumTest[0], np.size(sumTest))\n",
    "        \n",
    "        print \"sumTest: %s\" %sumTest\n",
    "        print \"arrTest: %s\" %arrTest\n",
    "        \n",
    "        if np.array_equal(sumTest, arrTest):\n",
    "            #Sums of rows, cols and diags equal\n",
    "            pass\n",
    "        else:\n",
    "            testMagic = False\n",
    "            \n",
    "    else:\n",
    "        testMagic = False\n",
    "        \n",
    "    construct = tstMtrx.reshape(1, tstMtrx.shape[0] ** 2)\n",
    "    construct = np.sort(construct)[0]\n",
    "    testConst = np.arange(1, tstMtrx.shape[0] ** 2 + 1)\n",
    "    print \"construct: %s\" %construct\n",
    "    print \"testConst: %s\" %testConst\n",
    "        \n",
    "    if np.array_equal(construct, testConst):\n",
    "        #Construct of range n^2\n",
    "        pass\n",
    "    else:\n",
    "        testMagic = False\n",
    "            \n",
    "    \n",
    "    return testMagic"
   ]
  },
  {
   "cell_type": "markdown",
   "metadata": {
    "internals": {},
    "slideshow": {
     "slide_type": "-"
    }
   },
   "source": [
    "Here are some tests:"
   ]
  },
  {
   "cell_type": "code",
   "execution_count": 6,
   "metadata": {
    "collapsed": false,
    "internals": {},
    "slideshow": {
     "slide_type": "-"
    }
   },
   "outputs": [
    {
     "name": "stdout",
     "output_type": "stream",
     "text": [
      "sumTest: [ 1.  1.  1.  1.  0.  2.]\n",
      "arrTest: [ 1.  1.  1.  1.  1.  1.]\n",
      "construct: [0 0 1 1]\n",
      "testConst: [1 2 3 4]\n"
     ]
    },
    {
     "data": {
      "text/plain": [
       "False"
      ]
     },
     "execution_count": 6,
     "metadata": {},
     "output_type": "execute_result"
    }
   ],
   "source": [
    "test1 = np.array([[0, 1], \n",
    "                  [1, 0]]) \n",
    "\n",
    "isMagic(test1) # False"
   ]
  },
  {
   "cell_type": "code",
   "execution_count": 7,
   "metadata": {
    "collapsed": false,
    "internals": {},
    "slideshow": {
     "slide_type": "-"
    }
   },
   "outputs": [
    {
     "name": "stdout",
     "output_type": "stream",
     "text": [
      "sumTest: [ 15.  15.  15.  15.  15.  15.  15.  15.]\n",
      "arrTest: [ 15.  15.  15.  15.  15.  15.  15.  15.]\n",
      "construct: [1 2 3 4 5 6 7 8 9]\n",
      "testConst: [1 2 3 4 5 6 7 8 9]\n"
     ]
    },
    {
     "data": {
      "text/plain": [
       "True"
      ]
     },
     "execution_count": 7,
     "metadata": {},
     "output_type": "execute_result"
    }
   ],
   "source": [
    "test2 = np.array([[8, 1, 6],\n",
    "                  [3, 5, 7],\n",
    "                  [4, 9, 2]])\n",
    "isMagic(test2) # True"
   ]
  },
  {
   "cell_type": "code",
   "execution_count": 8,
   "metadata": {
    "collapsed": false,
    "internals": {},
    "slideshow": {
     "slide_type": "-"
    }
   },
   "outputs": [
    {
     "name": "stdout",
     "output_type": "stream",
     "text": [
      "sumTest: [ 34.  34.  34.  34.  34.  34.  34.  34.  34.  34.]\n",
      "arrTest: [ 34.  34.  34.  34.  34.  34.  34.  34.  34.  34.]\n",
      "construct: [ 1  2  3  4  5  6  7  8  9 10 11 12 13 14 15 16]\n",
      "testConst: [ 1  2  3  4  5  6  7  8  9 10 11 12 13 14 15 16]\n"
     ]
    },
    {
     "data": {
      "text/plain": [
       "True"
      ]
     },
     "execution_count": 8,
     "metadata": {},
     "output_type": "execute_result"
    }
   ],
   "source": [
    "test3 = np.array([[16, 2, 3, 13],\n",
    "                  [5, 11, 10, 8],\n",
    "                  [9,  7, 6, 12],\n",
    "                  [4, 14, 15, 1]]) \n",
    "isMagic(test3) # True"
   ]
  },
  {
   "cell_type": "code",
   "execution_count": 9,
   "metadata": {
    "collapsed": false,
    "internals": {},
    "slideshow": {
     "slide_type": "-"
    }
   },
   "outputs": [
    {
     "name": "stdout",
     "output_type": "stream",
     "text": [
      "sumTest: [ 65.  65.  65.  65.  65.  65.  65.  65.  65.  65.  65.  65.]\n",
      "arrTest: [ 65.  65.  65.  65.  65.  65.  65.  65.  65.  65.  65.  65.]\n",
      "construct: [ 1  2  3  4  5  6  7  8  9 10 11 12 13 14 15 16 17 18 19 20 21 22 23 24 25]\n",
      "testConst: [ 1  2  3  4  5  6  7  8  9 10 11 12 13 14 15 16 17 18 19 20 21 22 23 24 25]\n"
     ]
    },
    {
     "data": {
      "text/plain": [
       "True"
      ]
     },
     "execution_count": 9,
     "metadata": {},
     "output_type": "execute_result"
    }
   ],
   "source": [
    "test4 = np.array([[17, 24,  1,  8, 15],\n",
    "                  [23,  5,  7, 14, 16],\n",
    "                  [4,   6, 13, 20, 22],\n",
    "                  [10, 12, 19, 21,  3],\n",
    "                  [11, 18, 25, 2,   9]]) \n",
    "isMagic(test4) # True"
   ]
  },
  {
   "cell_type": "code",
   "execution_count": 10,
   "metadata": {
    "collapsed": false,
    "internals": {
     "slide_helper": "subslide_end"
    },
    "slide_helper": "slide_end",
    "slideshow": {
     "slide_type": "-"
    }
   },
   "outputs": [
    {
     "name": "stdout",
     "output_type": "stream",
     "text": [
      "sumTest: [ 111.  111.  111.  111.  111.  111.  111.  111.  111.  111.  111.  111.\n",
      "  111.  111.]\n",
      "arrTest: [ 111.  111.  111.  111.  111.  111.  111.  111.  111.  111.  111.  111.\n",
      "  111.  111.]\n",
      "construct: [ 1  2  3  4  5  6  7  8  9 10 11 12 13 14 15 16 17 18 19 20 21 22 23 24 25\n",
      " 26 27 28 29 30 31 32 33 34 35 36]\n",
      "testConst: [ 1  2  3  4  5  6  7  8  9 10 11 12 13 14 15 16 17 18 19 20 21 22 23 24 25\n",
      " 26 27 28 29 30 31 32 33 34 35 36]\n"
     ]
    },
    {
     "data": {
      "text/plain": [
       "True"
      ]
     },
     "execution_count": 10,
     "metadata": {},
     "output_type": "execute_result"
    }
   ],
   "source": [
    "test5 = np.array([[35, 1, 6, 26, 19, 24],\n",
    "                  [3, 32, 7, 21, 23, 25],\n",
    "                  [31, 9, 2, 22, 27, 20],\n",
    "                  [8, 28, 33, 17, 10,15],\n",
    "                  [30, 5, 34, 12, 14,16],\n",
    "                  [4, 36, 29, 13, 18,11]])\n",
    "isMagic(test5) # True"
   ]
  },
  {
   "cell_type": "markdown",
   "metadata": {
    "internals": {
     "slide_helper": "subslide_end",
     "slide_type": "subslide"
    },
    "slide_helper": "slide_end",
    "slideshow": {
     "slide_type": "slide"
    }
   },
   "source": [
    "# Part 2: Scipy"
   ]
  },
  {
   "cell_type": "markdown",
   "metadata": {
    "internals": {
     "slide_type": "subslide"
    },
    "slideshow": {
     "slide_type": "slide"
    }
   },
   "source": [
    "(1) Generate a 100*2 array from a t distribution with degree 30.(Find t distribution in [the document](http://docs.scipy.org/doc/scipy/reference/stats.html))"
   ]
  },
  {
   "cell_type": "code",
   "execution_count": 11,
   "metadata": {
    "collapsed": false
   },
   "outputs": [
    {
     "data": {
      "text/plain": [
       "array([[-0.63445342,  0.45670732],\n",
       "       [ 1.01455233,  0.88774403],\n",
       "       [ 0.07481137, -0.74101257],\n",
       "       [-0.92767461, -0.13230416],\n",
       "       [-0.31197407,  0.87713143],\n",
       "       [-2.1398967 , -0.73387958],\n",
       "       [ 1.33671451,  0.08295852],\n",
       "       [ 1.14798355, -2.43647738],\n",
       "       [-0.72182569, -1.54696512],\n",
       "       [ 0.71655634,  0.87512741],\n",
       "       [ 1.59209833,  0.14346558],\n",
       "       [ 1.26289775,  1.23142463],\n",
       "       [-0.51674722,  0.13239996],\n",
       "       [ 1.37529484,  1.86142879],\n",
       "       [-0.16626016,  1.02673026],\n",
       "       [-0.18594442,  0.29082175],\n",
       "       [-0.24138589,  0.66969677],\n",
       "       [-0.0454271 ,  0.21976757],\n",
       "       [-1.24808354, -1.08388398],\n",
       "       [-2.08280535,  1.79394484],\n",
       "       [-1.49989615,  0.37133485],\n",
       "       [-0.76221675,  0.36606096],\n",
       "       [-0.02229809, -0.32015567],\n",
       "       [ 1.11839513, -0.00885347],\n",
       "       [-1.35853816,  1.33218819],\n",
       "       [ 0.43102182,  0.78032412],\n",
       "       [-0.45440999,  0.19353647],\n",
       "       [-0.43075441,  1.5558276 ],\n",
       "       [-0.707815  , -0.17128489],\n",
       "       [ 2.88343894,  0.20274439],\n",
       "       [ 1.13044153,  0.1930347 ],\n",
       "       [-0.37915293,  0.23364934],\n",
       "       [-1.76970271, -0.15693253],\n",
       "       [-0.03357439,  0.67539293],\n",
       "       [-0.73728318,  2.61704353],\n",
       "       [ 1.51296069,  0.42919422],\n",
       "       [ 0.54462966, -1.43911038],\n",
       "       [ 2.48364553,  0.23689884],\n",
       "       [ 1.24676115,  0.11454313],\n",
       "       [-0.86326892,  1.14483689],\n",
       "       [ 1.57658001, -0.01239996],\n",
       "       [-1.29232467, -0.7649225 ],\n",
       "       [-0.2673377 , -0.22984148],\n",
       "       [-0.42530941,  1.69017124],\n",
       "       [-0.34226475,  0.86253677],\n",
       "       [ 0.21222582,  1.12799573],\n",
       "       [ 0.98718139, -1.42153385],\n",
       "       [ 0.24435465,  2.12916375],\n",
       "       [ 0.68213281, -0.56374864],\n",
       "       [ 0.01122285,  0.55647669],\n",
       "       [-1.3153582 , -0.96010873],\n",
       "       [-1.56435936, -2.28638382],\n",
       "       [ 0.8208712 , -0.15716055],\n",
       "       [ 0.27824961,  0.81512934],\n",
       "       [ 0.26914438,  1.11852816],\n",
       "       [-1.76958413,  0.20683308],\n",
       "       [ 0.0742177 ,  0.60887139],\n",
       "       [ 0.10635744, -0.07157143],\n",
       "       [ 0.32440457,  2.2932469 ],\n",
       "       [-2.21782525, -1.6398916 ],\n",
       "       [-1.98075965,  1.38179976],\n",
       "       [ 1.02753259,  0.9697031 ],\n",
       "       [ 0.46691297, -0.10365658],\n",
       "       [-1.41917864, -0.88084951],\n",
       "       [-1.07207241, -1.52000549],\n",
       "       [ 0.56378102, -0.4037191 ],\n",
       "       [ 0.03628125, -1.87515292],\n",
       "       [ 1.38334954,  0.35480684],\n",
       "       [ 1.71979009,  0.48183794],\n",
       "       [-0.0142809 , -0.26984056],\n",
       "       [ 0.43097186,  0.77246407],\n",
       "       [ 1.74680235, -1.64372224],\n",
       "       [-0.0171686 ,  0.76521094],\n",
       "       [ 0.50772801, -0.9134146 ],\n",
       "       [-0.77000941, -1.35440722],\n",
       "       [ 0.70071589, -0.83860093],\n",
       "       [ 0.08466107,  0.9683873 ],\n",
       "       [-0.11850023,  0.44650402],\n",
       "       [-0.7359775 ,  0.68960107],\n",
       "       [-1.17607635,  1.74847864],\n",
       "       [ 0.44292231, -1.62221576],\n",
       "       [ 1.1137358 ,  0.45765388],\n",
       "       [ 0.80292493, -2.10384172],\n",
       "       [ 0.64567851, -0.88704631],\n",
       "       [ 0.21286642,  0.30720244],\n",
       "       [-0.74198516, -0.24768776],\n",
       "       [ 2.13627027, -0.45530123],\n",
       "       [-1.06008218, -0.4617894 ],\n",
       "       [-0.16920967, -0.16478269],\n",
       "       [-0.70980645,  0.45189025],\n",
       "       [-1.5038227 ,  1.31964667],\n",
       "       [-0.43245435,  1.22582732],\n",
       "       [ 0.70454825, -0.90133271],\n",
       "       [ 1.17478005,  0.28293544],\n",
       "       [ 1.01159299,  2.27692611],\n",
       "       [ 0.48263596,  1.06851509],\n",
       "       [ 1.21738395, -0.0267088 ],\n",
       "       [-0.15612104,  1.92808765],\n",
       "       [ 0.27237325,  1.71272493],\n",
       "       [-0.65228665,  1.05573277]])"
      ]
     },
     "execution_count": 11,
     "metadata": {},
     "output_type": "execute_result"
    }
   ],
   "source": [
    "import scipy as sp\n",
    "import scipy.stats\n",
    "scipy.stats.t.rvs(30, size=200).reshape(100, 2)"
   ]
  },
  {
   "cell_type": "markdown",
   "metadata": {},
   "source": [
    "(2) According to this picture, does the \"Petal Length\" of different species has significant difference? Using the **Analysis of Variance** varify your answer.\n",
    "\n",
    "![iris](http://slides.nycdatascience.com/BOOTCAMP3/content/week6/pic/scatter.png)"
   ]
  },
  {
   "cell_type": "code",
   "execution_count": 12,
   "metadata": {
    "collapsed": false
   },
   "outputs": [],
   "source": [
    "import pandas as pd\n",
    "iris = pd.read_csv('./iris.csv') # the iris.csv is in the zipped file\n",
    "PetalLength = iris['Petal.Length']\n",
    "Species = iris['Species']"
   ]
  },
  {
   "cell_type": "code",
   "execution_count": 13,
   "metadata": {
    "collapsed": false
   },
   "outputs": [
    {
     "name": "stdout",
     "output_type": "stream",
     "text": [
      "F_onewayResult(statistic=1180.1611822529776, pvalue=2.8567766109621302e-91)\n"
     ]
    }
   ],
   "source": [
    "stsa = iris.loc[iris.Species == 'setosa']['Petal.Length']\n",
    "vrsc = iris.loc[iris.Species == 'versicolor']['Petal.Length']\n",
    "vrgn = iris.loc[iris.Species == 'virginica']['Petal.Length']\n",
    "\n",
    "print sp.stats.f_oneway(stsa, vrsc, vrgn)"
   ]
  },
  {
   "cell_type": "code",
   "execution_count": 14,
   "metadata": {
    "collapsed": false
   },
   "outputs": [
    {
     "name": "stdout",
     "output_type": "stream",
     "text": [
      "p-value is significant, reject the null - sig diff in var\n"
     ]
    }
   ],
   "source": [
    "print \"p-value is significant, reject the null - sig diff in var\""
   ]
  },
  {
   "cell_type": "code",
   "execution_count": null,
   "metadata": {
    "collapsed": true
   },
   "outputs": [],
   "source": []
  }
 ],
 "metadata": {
  "celltoolbar": "Slideshow",
  "kernelspec": {
   "display_name": "Python 2",
   "language": "python",
   "name": "python2"
  },
  "language_info": {
   "codemirror_mode": {
    "name": "ipython",
    "version": 2
   },
   "file_extension": ".py",
   "mimetype": "text/x-python",
   "name": "python",
   "nbconvert_exporter": "python",
   "pygments_lexer": "ipython2",
   "version": "2.7.10"
  }
 },
 "nbformat": 4,
 "nbformat_minor": 0
}
